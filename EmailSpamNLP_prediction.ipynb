{
 "cells": [
  {
   "cell_type": "code",
   "execution_count": 100,
   "metadata": {},
   "outputs": [],
   "source": [
    "import numpy as np\n",
    "import pandas as pd\n",
    "import matplotlib.pyplot as plt\n",
    "import seaborn as sns\n"
   ]
  },
  {
   "cell_type": "code",
   "execution_count": 101,
   "metadata": {},
   "outputs": [
    {
     "data": {
      "text/html": [
       "<div>\n",
       "<style scoped>\n",
       "    .dataframe tbody tr th:only-of-type {\n",
       "        vertical-align: middle;\n",
       "    }\n",
       "\n",
       "    .dataframe tbody tr th {\n",
       "        vertical-align: top;\n",
       "    }\n",
       "\n",
       "    .dataframe thead th {\n",
       "        text-align: right;\n",
       "    }\n",
       "</style>\n",
       "<table border=\"1\" class=\"dataframe\">\n",
       "  <thead>\n",
       "    <tr style=\"text-align: right;\">\n",
       "      <th></th>\n",
       "      <th>id</th>\n",
       "      <th>url_legal</th>\n",
       "      <th>license</th>\n",
       "      <th>excerpt</th>\n",
       "      <th>target</th>\n",
       "      <th>standard_error</th>\n",
       "    </tr>\n",
       "  </thead>\n",
       "  <tbody>\n",
       "    <tr>\n",
       "      <th>0</th>\n",
       "      <td>c12129c31</td>\n",
       "      <td>NaN</td>\n",
       "      <td>NaN</td>\n",
       "      <td>When the young people returned to the ballroom...</td>\n",
       "      <td>-0.340259</td>\n",
       "      <td>0.464009</td>\n",
       "    </tr>\n",
       "    <tr>\n",
       "      <th>1</th>\n",
       "      <td>85aa80a4c</td>\n",
       "      <td>NaN</td>\n",
       "      <td>NaN</td>\n",
       "      <td>All through dinner time, Mrs. Fayre was somewh...</td>\n",
       "      <td>-0.315372</td>\n",
       "      <td>0.480805</td>\n",
       "    </tr>\n",
       "    <tr>\n",
       "      <th>2</th>\n",
       "      <td>b69ac6792</td>\n",
       "      <td>NaN</td>\n",
       "      <td>NaN</td>\n",
       "      <td>As Roger had predicted, the snow departed as q...</td>\n",
       "      <td>-0.580118</td>\n",
       "      <td>0.476676</td>\n",
       "    </tr>\n",
       "    <tr>\n",
       "      <th>3</th>\n",
       "      <td>dd1000b26</td>\n",
       "      <td>NaN</td>\n",
       "      <td>NaN</td>\n",
       "      <td>And outside before the palace a great garden w...</td>\n",
       "      <td>-1.054013</td>\n",
       "      <td>0.450007</td>\n",
       "    </tr>\n",
       "    <tr>\n",
       "      <th>4</th>\n",
       "      <td>37c1b32fb</td>\n",
       "      <td>NaN</td>\n",
       "      <td>NaN</td>\n",
       "      <td>Once upon a time there were Three Bears who li...</td>\n",
       "      <td>0.247197</td>\n",
       "      <td>0.510845</td>\n",
       "    </tr>\n",
       "  </tbody>\n",
       "</table>\n",
       "</div>"
      ],
      "text/plain": [
       "          id url_legal license  \\\n",
       "0  c12129c31       NaN     NaN   \n",
       "1  85aa80a4c       NaN     NaN   \n",
       "2  b69ac6792       NaN     NaN   \n",
       "3  dd1000b26       NaN     NaN   \n",
       "4  37c1b32fb       NaN     NaN   \n",
       "\n",
       "                                             excerpt    target  standard_error  \n",
       "0  When the young people returned to the ballroom... -0.340259        0.464009  \n",
       "1  All through dinner time, Mrs. Fayre was somewh... -0.315372        0.480805  \n",
       "2  As Roger had predicted, the snow departed as q... -0.580118        0.476676  \n",
       "3  And outside before the palace a great garden w... -1.054013        0.450007  \n",
       "4  Once upon a time there were Three Bears who li...  0.247197        0.510845  "
      ]
     },
     "execution_count": 101,
     "metadata": {},
     "output_type": "execute_result"
    }
   ],
   "source": [
    "train=pd.read_csv(\"train.csv\")\n",
    "test=pd.read_csv(\"test.csv\")\n",
    "train.head()"
   ]
  },
  {
   "cell_type": "code",
   "execution_count": 183,
   "metadata": {},
   "outputs": [
    {
     "data": {
      "text/plain": [
       "(2834,)"
      ]
     },
     "execution_count": 183,
     "metadata": {},
     "output_type": "execute_result"
    }
   ],
   "source": [
    "train['excerpt'].shape"
   ]
  },
  {
   "cell_type": "code",
   "execution_count": 184,
   "metadata": {},
   "outputs": [
    {
     "data": {
      "text/plain": [
       "(7,)"
      ]
     },
     "execution_count": 184,
     "metadata": {},
     "output_type": "execute_result"
    }
   ],
   "source": [
    "test['excerpt'].shape"
   ]
  },
  {
   "cell_type": "code",
   "execution_count": 185,
   "metadata": {},
   "outputs": [
    {
     "data": {
      "text/plain": [
       "id           0\n",
       "url_legal    4\n",
       "license      4\n",
       "excerpt      0\n",
       "dtype: int64"
      ]
     },
     "execution_count": 185,
     "metadata": {},
     "output_type": "execute_result"
    }
   ],
   "source": [
    "test.isna().sum()"
   ]
  },
  {
   "cell_type": "code",
   "execution_count": 102,
   "metadata": {},
   "outputs": [],
   "source": [
    "import math\n",
    "arr1=[]\n",
    "for i in train['target']:\n",
    "    if i>0:\n",
    "        if i<0.5:\n",
    "            arr1.append(math.floor(i))\n",
    "        else:\n",
    "            if i>=0.5:\n",
    "                arr1.append(math.ceil(i))\n",
    "    else:\n",
    "        if i<0:\n",
    "            if i<-0.5:\n",
    "                arr1.append(math.floor(i))\n",
    "            else:\n",
    "                if i>=-0.5:\n",
    "                    arr1.append(math.ceil(i))\n",
    "                \n",
    "                "
   ]
  },
  {
   "cell_type": "code",
   "execution_count": 103,
   "metadata": {},
   "outputs": [
    {
     "data": {
      "text/plain": [
       "array([-4, -3, -2, -1,  0,  1,  2])"
      ]
     },
     "execution_count": 103,
     "metadata": {},
     "output_type": "execute_result"
    }
   ],
   "source": [
    "np.unique(arr1)"
   ]
  },
  {
   "cell_type": "code",
   "execution_count": 104,
   "metadata": {},
   "outputs": [
    {
     "data": {
      "text/plain": [
       "array([-3.67626777, -3.66836041, -3.64289216, ...,  1.58384683,\n",
       "        1.59786984,  1.71138983])"
      ]
     },
     "execution_count": 104,
     "metadata": {},
     "output_type": "execute_result"
    }
   ],
   "source": [
    "np.unique(train['target'])\n",
    "\n"
   ]
  },
  {
   "cell_type": "code",
   "execution_count": 105,
   "metadata": {},
   "outputs": [
    {
     "name": "stderr",
     "output_type": "stream",
     "text": [
      "<ipython-input-105-3d8f2e70b169>:17: SettingWithCopyWarning: \n",
      "A value is trying to be set on a copy of a slice from a DataFrame\n",
      "\n",
      "See the caveats in the documentation: https://pandas.pydata.org/pandas-docs/stable/user_guide/indexing.html#returning-a-view-versus-a-copy\n",
      "  train['target'][i]=math.ceil(train['target'][i])\n",
      "<ipython-input-105-3d8f2e70b169>:14: SettingWithCopyWarning: \n",
      "A value is trying to be set on a copy of a slice from a DataFrame\n",
      "\n",
      "See the caveats in the documentation: https://pandas.pydata.org/pandas-docs/stable/user_guide/indexing.html#returning-a-view-versus-a-copy\n",
      "  train['target'][i]=math.floor(train['target'][i])\n",
      "<ipython-input-105-3d8f2e70b169>:7: SettingWithCopyWarning: \n",
      "A value is trying to be set on a copy of a slice from a DataFrame\n",
      "\n",
      "See the caveats in the documentation: https://pandas.pydata.org/pandas-docs/stable/user_guide/indexing.html#returning-a-view-versus-a-copy\n",
      "  train['target'][i]=math.floor(train['target'][i])\n",
      "<ipython-input-105-3d8f2e70b169>:10: SettingWithCopyWarning: \n",
      "A value is trying to be set on a copy of a slice from a DataFrame\n",
      "\n",
      "See the caveats in the documentation: https://pandas.pydata.org/pandas-docs/stable/user_guide/indexing.html#returning-a-view-versus-a-copy\n",
      "  train['target'][i]=math.ceil(train['target'][i])\n",
      "<ipython-input-105-3d8f2e70b169>:4: SettingWithCopyWarning: \n",
      "A value is trying to be set on a copy of a slice from a DataFrame\n",
      "\n",
      "See the caveats in the documentation: https://pandas.pydata.org/pandas-docs/stable/user_guide/indexing.html#returning-a-view-versus-a-copy\n",
      "  train['target'][i]=0\n"
     ]
    }
   ],
   "source": [
    "import math\n",
    "for i in range(len(train['target'])):\n",
    "    if train['target'][i]==0:\n",
    "        train['target'][i]=0\n",
    "    if train['target'][i]>0:\n",
    "        if train['target'][i]<0.5:\n",
    "            train['target'][i]=math.floor(train['target'][i])\n",
    "        else:\n",
    "            if train['target'][i]>=0.5:\n",
    "                train['target'][i]=math.ceil(train['target'][i])\n",
    "    else:\n",
    "        if train['target'][i]<0:\n",
    "            if train['target'][i]<-0.5:\n",
    "                train['target'][i]=math.floor(train['target'][i])\n",
    "            else:\n",
    "                if train['target'][i]>=-0.5:\n",
    "                    train['target'][i]=math.ceil(train['target'][i])\n",
    "       "
   ]
  },
  {
   "cell_type": "code",
   "execution_count": 106,
   "metadata": {},
   "outputs": [],
   "source": [
    "train['target']=train['target'].astype('int')"
   ]
  },
  {
   "cell_type": "code",
   "execution_count": 107,
   "metadata": {},
   "outputs": [
    {
     "data": {
      "text/plain": [
       "array([-4, -3, -2, -1,  0,  1,  2])"
      ]
     },
     "execution_count": 107,
     "metadata": {},
     "output_type": "execute_result"
    }
   ],
   "source": [
    "np.unique(train['target'])"
   ]
  },
  {
   "cell_type": "code",
   "execution_count": 108,
   "metadata": {},
   "outputs": [
    {
     "data": {
      "text/plain": [
       "id                   0\n",
       "url_legal         2004\n",
       "license           2004\n",
       "excerpt              0\n",
       "target               0\n",
       "standard_error       0\n",
       "dtype: int64"
      ]
     },
     "execution_count": 108,
     "metadata": {},
     "output_type": "execute_result"
    }
   ],
   "source": [
    "train.isna().sum()"
   ]
  },
  {
   "cell_type": "code",
   "execution_count": 109,
   "metadata": {},
   "outputs": [
    {
     "data": {
      "text/plain": [
       "0       0\n",
       "1       0\n",
       "2      -1\n",
       "3      -2\n",
       "4       0\n",
       "       ..\n",
       "2829    2\n",
       "2830    0\n",
       "2831    0\n",
       "2832    0\n",
       "2833    0\n",
       "Name: target, Length: 2834, dtype: int32"
      ]
     },
     "execution_count": 109,
     "metadata": {},
     "output_type": "execute_result"
    }
   ],
   "source": [
    "train['target']"
   ]
  },
  {
   "cell_type": "code",
   "execution_count": 110,
   "metadata": {},
   "outputs": [
    {
     "data": {
      "text/html": [
       "<div>\n",
       "<style scoped>\n",
       "    .dataframe tbody tr th:only-of-type {\n",
       "        vertical-align: middle;\n",
       "    }\n",
       "\n",
       "    .dataframe tbody tr th {\n",
       "        vertical-align: top;\n",
       "    }\n",
       "\n",
       "    .dataframe thead th {\n",
       "        text-align: right;\n",
       "    }\n",
       "</style>\n",
       "<table border=\"1\" class=\"dataframe\">\n",
       "  <thead>\n",
       "    <tr style=\"text-align: right;\">\n",
       "      <th></th>\n",
       "      <th>target</th>\n",
       "      <th>standard_error</th>\n",
       "    </tr>\n",
       "  </thead>\n",
       "  <tbody>\n",
       "    <tr>\n",
       "      <th>count</th>\n",
       "      <td>2834.000000</td>\n",
       "      <td>2834.000000</td>\n",
       "    </tr>\n",
       "    <tr>\n",
       "      <th>mean</th>\n",
       "      <td>-1.232181</td>\n",
       "      <td>0.491435</td>\n",
       "    </tr>\n",
       "    <tr>\n",
       "      <th>std</th>\n",
       "      <td>1.322539</td>\n",
       "      <td>0.034818</td>\n",
       "    </tr>\n",
       "    <tr>\n",
       "      <th>min</th>\n",
       "      <td>-4.000000</td>\n",
       "      <td>0.000000</td>\n",
       "    </tr>\n",
       "    <tr>\n",
       "      <th>25%</th>\n",
       "      <td>-2.000000</td>\n",
       "      <td>0.468543</td>\n",
       "    </tr>\n",
       "    <tr>\n",
       "      <th>50%</th>\n",
       "      <td>-1.000000</td>\n",
       "      <td>0.484721</td>\n",
       "    </tr>\n",
       "    <tr>\n",
       "      <th>75%</th>\n",
       "      <td>0.000000</td>\n",
       "      <td>0.506268</td>\n",
       "    </tr>\n",
       "    <tr>\n",
       "      <th>max</th>\n",
       "      <td>2.000000</td>\n",
       "      <td>0.649671</td>\n",
       "    </tr>\n",
       "  </tbody>\n",
       "</table>\n",
       "</div>"
      ],
      "text/plain": [
       "            target  standard_error\n",
       "count  2834.000000     2834.000000\n",
       "mean     -1.232181        0.491435\n",
       "std       1.322539        0.034818\n",
       "min      -4.000000        0.000000\n",
       "25%      -2.000000        0.468543\n",
       "50%      -1.000000        0.484721\n",
       "75%       0.000000        0.506268\n",
       "max       2.000000        0.649671"
      ]
     },
     "execution_count": 110,
     "metadata": {},
     "output_type": "execute_result"
    }
   ],
   "source": [
    "train.describe()"
   ]
  },
  {
   "cell_type": "code",
   "execution_count": 111,
   "metadata": {},
   "outputs": [
    {
     "name": "stdout",
     "output_type": "stream",
     "text": [
      "<class 'pandas.core.frame.DataFrame'>\n",
      "RangeIndex: 2834 entries, 0 to 2833\n",
      "Data columns (total 6 columns):\n",
      " #   Column          Non-Null Count  Dtype  \n",
      "---  ------          --------------  -----  \n",
      " 0   id              2834 non-null   object \n",
      " 1   url_legal       830 non-null    object \n",
      " 2   license         830 non-null    object \n",
      " 3   excerpt         2834 non-null   object \n",
      " 4   target          2834 non-null   int32  \n",
      " 5   standard_error  2834 non-null   float64\n",
      "dtypes: float64(1), int32(1), object(4)\n",
      "memory usage: 121.9+ KB\n"
     ]
    }
   ],
   "source": [
    "train.info()"
   ]
  },
  {
   "cell_type": "code",
   "execution_count": 112,
   "metadata": {},
   "outputs": [],
   "source": [
    "#STEP #2: VISUALIZE DATASET"
   ]
  },
  {
   "cell_type": "code",
   "execution_count": 113,
   "metadata": {},
   "outputs": [
    {
     "data": {
      "text/html": [
       "<div>\n",
       "<style scoped>\n",
       "    .dataframe tbody tr th:only-of-type {\n",
       "        vertical-align: middle;\n",
       "    }\n",
       "\n",
       "    .dataframe tbody tr th {\n",
       "        vertical-align: top;\n",
       "    }\n",
       "\n",
       "    .dataframe thead tr th {\n",
       "        text-align: left;\n",
       "    }\n",
       "\n",
       "    .dataframe thead tr:last-of-type th {\n",
       "        text-align: right;\n",
       "    }\n",
       "</style>\n",
       "<table border=\"1\" class=\"dataframe\">\n",
       "  <thead>\n",
       "    <tr>\n",
       "      <th></th>\n",
       "      <th colspan=\"8\" halign=\"left\">standard_error</th>\n",
       "    </tr>\n",
       "    <tr>\n",
       "      <th></th>\n",
       "      <th>count</th>\n",
       "      <th>mean</th>\n",
       "      <th>std</th>\n",
       "      <th>min</th>\n",
       "      <th>25%</th>\n",
       "      <th>50%</th>\n",
       "      <th>75%</th>\n",
       "      <th>max</th>\n",
       "    </tr>\n",
       "    <tr>\n",
       "      <th>target</th>\n",
       "      <th></th>\n",
       "      <th></th>\n",
       "      <th></th>\n",
       "      <th></th>\n",
       "      <th></th>\n",
       "      <th></th>\n",
       "      <th></th>\n",
       "      <th></th>\n",
       "    </tr>\n",
       "  </thead>\n",
       "  <tbody>\n",
       "    <tr>\n",
       "      <th>-4</th>\n",
       "      <td>75.0</td>\n",
       "      <td>0.581822</td>\n",
       "      <td>0.033385</td>\n",
       "      <td>0.526246</td>\n",
       "      <td>0.554459</td>\n",
       "      <td>0.575816</td>\n",
       "      <td>0.603901</td>\n",
       "      <td>0.649671</td>\n",
       "    </tr>\n",
       "    <tr>\n",
       "      <th>-3</th>\n",
       "      <td>421.0</td>\n",
       "      <td>0.511025</td>\n",
       "      <td>0.027608</td>\n",
       "      <td>0.453960</td>\n",
       "      <td>0.493488</td>\n",
       "      <td>0.508406</td>\n",
       "      <td>0.526147</td>\n",
       "      <td>0.622350</td>\n",
       "    </tr>\n",
       "    <tr>\n",
       "      <th>-2</th>\n",
       "      <td>835.0</td>\n",
       "      <td>0.477933</td>\n",
       "      <td>0.020923</td>\n",
       "      <td>0.433708</td>\n",
       "      <td>0.462501</td>\n",
       "      <td>0.475055</td>\n",
       "      <td>0.491425</td>\n",
       "      <td>0.568885</td>\n",
       "    </tr>\n",
       "    <tr>\n",
       "      <th>-1</th>\n",
       "      <td>538.0</td>\n",
       "      <td>0.472414</td>\n",
       "      <td>0.018860</td>\n",
       "      <td>0.428233</td>\n",
       "      <td>0.459453</td>\n",
       "      <td>0.470187</td>\n",
       "      <td>0.483420</td>\n",
       "      <td>0.558600</td>\n",
       "    </tr>\n",
       "    <tr>\n",
       "      <th>0</th>\n",
       "      <td>742.0</td>\n",
       "      <td>0.486529</td>\n",
       "      <td>0.028090</td>\n",
       "      <td>0.000000</td>\n",
       "      <td>0.472461</td>\n",
       "      <td>0.484895</td>\n",
       "      <td>0.499249</td>\n",
       "      <td>0.567713</td>\n",
       "    </tr>\n",
       "    <tr>\n",
       "      <th>1</th>\n",
       "      <td>167.0</td>\n",
       "      <td>0.525572</td>\n",
       "      <td>0.028699</td>\n",
       "      <td>0.470943</td>\n",
       "      <td>0.503848</td>\n",
       "      <td>0.524100</td>\n",
       "      <td>0.541030</td>\n",
       "      <td>0.606161</td>\n",
       "    </tr>\n",
       "    <tr>\n",
       "      <th>2</th>\n",
       "      <td>56.0</td>\n",
       "      <td>0.570362</td>\n",
       "      <td>0.036123</td>\n",
       "      <td>0.504840</td>\n",
       "      <td>0.547811</td>\n",
       "      <td>0.554253</td>\n",
       "      <td>0.597328</td>\n",
       "      <td>0.648474</td>\n",
       "    </tr>\n",
       "  </tbody>\n",
       "</table>\n",
       "</div>"
      ],
      "text/plain": [
       "       standard_error                                                    \\\n",
       "                count      mean       std       min       25%       50%   \n",
       "target                                                                    \n",
       "-4               75.0  0.581822  0.033385  0.526246  0.554459  0.575816   \n",
       "-3              421.0  0.511025  0.027608  0.453960  0.493488  0.508406   \n",
       "-2              835.0  0.477933  0.020923  0.433708  0.462501  0.475055   \n",
       "-1              538.0  0.472414  0.018860  0.428233  0.459453  0.470187   \n",
       " 0              742.0  0.486529  0.028090  0.000000  0.472461  0.484895   \n",
       " 1              167.0  0.525572  0.028699  0.470943  0.503848  0.524100   \n",
       " 2               56.0  0.570362  0.036123  0.504840  0.547811  0.554253   \n",
       "\n",
       "                            \n",
       "             75%       max  \n",
       "target                      \n",
       "-4      0.603901  0.649671  \n",
       "-3      0.526147  0.622350  \n",
       "-2      0.491425  0.568885  \n",
       "-1      0.483420  0.558600  \n",
       " 0      0.499249  0.567713  \n",
       " 1      0.541030  0.606161  \n",
       " 2      0.597328  0.648474  "
      ]
     },
     "execution_count": 113,
     "metadata": {},
     "output_type": "execute_result"
    }
   ],
   "source": [
    "# Let's see which message is the most popular ham/spam message\n",
    "train.groupby('target').describe()"
   ]
  },
  {
   "cell_type": "code",
   "execution_count": 114,
   "metadata": {},
   "outputs": [
    {
     "data": {
      "text/html": [
       "<div>\n",
       "<style scoped>\n",
       "    .dataframe tbody tr th:only-of-type {\n",
       "        vertical-align: middle;\n",
       "    }\n",
       "\n",
       "    .dataframe tbody tr th {\n",
       "        vertical-align: top;\n",
       "    }\n",
       "\n",
       "    .dataframe thead th {\n",
       "        text-align: right;\n",
       "    }\n",
       "</style>\n",
       "<table border=\"1\" class=\"dataframe\">\n",
       "  <thead>\n",
       "    <tr style=\"text-align: right;\">\n",
       "      <th></th>\n",
       "      <th>id</th>\n",
       "      <th>url_legal</th>\n",
       "      <th>license</th>\n",
       "      <th>excerpt</th>\n",
       "      <th>target</th>\n",
       "      <th>standard_error</th>\n",
       "      <th>length</th>\n",
       "    </tr>\n",
       "  </thead>\n",
       "  <tbody>\n",
       "    <tr>\n",
       "      <th>0</th>\n",
       "      <td>c12129c31</td>\n",
       "      <td>NaN</td>\n",
       "      <td>NaN</td>\n",
       "      <td>When the young people returned to the ballroom...</td>\n",
       "      <td>0</td>\n",
       "      <td>0.464009</td>\n",
       "      <td>992</td>\n",
       "    </tr>\n",
       "    <tr>\n",
       "      <th>1</th>\n",
       "      <td>85aa80a4c</td>\n",
       "      <td>NaN</td>\n",
       "      <td>NaN</td>\n",
       "      <td>All through dinner time, Mrs. Fayre was somewh...</td>\n",
       "      <td>0</td>\n",
       "      <td>0.480805</td>\n",
       "      <td>937</td>\n",
       "    </tr>\n",
       "    <tr>\n",
       "      <th>2</th>\n",
       "      <td>b69ac6792</td>\n",
       "      <td>NaN</td>\n",
       "      <td>NaN</td>\n",
       "      <td>As Roger had predicted, the snow departed as q...</td>\n",
       "      <td>-1</td>\n",
       "      <td>0.476676</td>\n",
       "      <td>908</td>\n",
       "    </tr>\n",
       "    <tr>\n",
       "      <th>3</th>\n",
       "      <td>dd1000b26</td>\n",
       "      <td>NaN</td>\n",
       "      <td>NaN</td>\n",
       "      <td>And outside before the palace a great garden w...</td>\n",
       "      <td>-2</td>\n",
       "      <td>0.450007</td>\n",
       "      <td>909</td>\n",
       "    </tr>\n",
       "    <tr>\n",
       "      <th>4</th>\n",
       "      <td>37c1b32fb</td>\n",
       "      <td>NaN</td>\n",
       "      <td>NaN</td>\n",
       "      <td>Once upon a time there were Three Bears who li...</td>\n",
       "      <td>0</td>\n",
       "      <td>0.510845</td>\n",
       "      <td>723</td>\n",
       "    </tr>\n",
       "  </tbody>\n",
       "</table>\n",
       "</div>"
      ],
      "text/plain": [
       "          id url_legal license  \\\n",
       "0  c12129c31       NaN     NaN   \n",
       "1  85aa80a4c       NaN     NaN   \n",
       "2  b69ac6792       NaN     NaN   \n",
       "3  dd1000b26       NaN     NaN   \n",
       "4  37c1b32fb       NaN     NaN   \n",
       "\n",
       "                                             excerpt  target  standard_error  \\\n",
       "0  When the young people returned to the ballroom...       0        0.464009   \n",
       "1  All through dinner time, Mrs. Fayre was somewh...       0        0.480805   \n",
       "2  As Roger had predicted, the snow departed as q...      -1        0.476676   \n",
       "3  And outside before the palace a great garden w...      -2        0.450007   \n",
       "4  Once upon a time there were Three Bears who li...       0        0.510845   \n",
       "\n",
       "   length  \n",
       "0     992  \n",
       "1     937  \n",
       "2     908  \n",
       "3     909  \n",
       "4     723  "
      ]
     },
     "execution_count": 114,
     "metadata": {},
     "output_type": "execute_result"
    }
   ],
   "source": [
    "# Let's get the length of the messages\n",
    "train['length'] = train['excerpt'].apply(len)\n",
    "train.head()\n"
   ]
  },
  {
   "cell_type": "code",
   "execution_count": 115,
   "metadata": {},
   "outputs": [
    {
     "data": {
      "text/plain": [
       "<matplotlib.axes._subplots.AxesSubplot at 0x2a8e1f51c70>"
      ]
     },
     "execution_count": 115,
     "metadata": {},
     "output_type": "execute_result"
    },
    {
     "data": {
      "image/png": "[encoded data removed]",
      "text/plain": [
       "<Figure size 432x288 with 1 Axes>"
      ]
     },
     "metadata": {
      "needs_background": "light"
     },
     "output_type": "display_data"
    }
   ],
   "source": [
    "train['length'].plot(bins=100, kind='hist') "
   ]
  },
  {
   "cell_type": "code",
   "execution_count": 116,
   "metadata": {},
   "outputs": [
    {
     "data": {
      "text/plain": [
       "count    2834.000000\n",
       "mean      971.732534\n",
       "std       117.257343\n",
       "min       669.000000\n",
       "25%       885.000000\n",
       "50%       971.000000\n",
       "75%      1058.000000\n",
       "max      1341.000000\n",
       "Name: length, dtype: float64"
      ]
     },
     "execution_count": 116,
     "metadata": {},
     "output_type": "execute_result"
    }
   ],
   "source": [
    "train.length.describe()"
   ]
  },
  {
   "cell_type": "code",
   "execution_count": 117,
   "metadata": {},
   "outputs": [
    {
     "data": {
      "text/plain": [
       "\"A major step forward in pacemaker function has been to attempt to mimic nature by utilizing various inputs to produce a rate-responsive pacemaker using parameters such as the QT interval, pO2 � pCO2 (dissolved oxygen or carbon dioxide levels) in the arterial-venous system, physical activity as determined by an accelerometer, body temperature, ATP levels, adrenaline, etc. Instead of producing a static, predetermined heart rate, or intermittent control, such a pacemaker, a 'Dynamic Pacemaker', could compensate for both actual respiratory loading and potentially anticipated respiratory loading. The first dynamic pacemaker was invented by Anthony Rickards of the National Heart Hospital, London, UK, in 1982.\\nDynamic pacemaking technology could also be applied to future artificial hearts. Advances in transitional tissue welding would support this and other artificial organ/joint/tissue replacement efforts. Stem cells may be of interest in transitional tissue welding.\\nMany advancements have been made to improve the control of the pacemaker once implanted. Many of these have been made possible by the transition to microprocessor controlled pacemakers. Pacemakers that control not only the ventricles but the atria as well have become common. Pacemakers that control both the atria and ventricles are called dual-chamber pacemakers.\""
      ]
     },
     "execution_count": 117,
     "metadata": {},
     "output_type": "execute_result"
    }
   ],
   "source": [
    "# Let's see the longest message \n",
    "train[train['length'] == max(train['length'])]['excerpt'].iloc[0]"
   ]
  },
  {
   "cell_type": "code",
   "execution_count": 118,
   "metadata": {},
   "outputs": [],
   "source": [
    "cls1 = train[train['target']==-4]\n",
    "cls2 = train[train['target']==-3]\n",
    "cls3 = train[train['target']==-2]\n",
    "cls4 = train[train['target']==-2]\n",
    "cls5 = train[train['target']==0]\n",
    "cls6 = train[train['target']==1]\n",
    "cls7 = train[train['target']==2]"
   ]
  },
  {
   "cell_type": "code",
   "execution_count": 119,
   "metadata": {},
   "outputs": [
    {
     "data": {
      "text/html": [
       "<div>\n",
       "<style scoped>\n",
       "    .dataframe tbody tr th:only-of-type {\n",
       "        vertical-align: middle;\n",
       "    }\n",
       "\n",
       "    .dataframe tbody tr th {\n",
       "        vertical-align: top;\n",
       "    }\n",
       "\n",
       "    .dataframe thead th {\n",
       "        text-align: right;\n",
       "    }\n",
       "</style>\n",
       "<table border=\"1\" class=\"dataframe\">\n",
       "  <thead>\n",
       "    <tr style=\"text-align: right;\">\n",
       "      <th></th>\n",
       "      <th>id</th>\n",
       "      <th>url_legal</th>\n",
       "      <th>license</th>\n",
       "      <th>excerpt</th>\n",
       "      <th>target</th>\n",
       "      <th>standard_error</th>\n",
       "      <th>length</th>\n",
       "    </tr>\n",
       "  </thead>\n",
       "  <tbody>\n",
       "    <tr>\n",
       "      <th>10</th>\n",
       "      <td>c57b50918</td>\n",
       "      <td>NaN</td>\n",
       "      <td>NaN</td>\n",
       "      <td>It was believed by the principal men of Virgin...</td>\n",
       "      <td>-4</td>\n",
       "      <td>0.553260</td>\n",
       "      <td>1105</td>\n",
       "    </tr>\n",
       "    <tr>\n",
       "      <th>344</th>\n",
       "      <td>c56b17080</td>\n",
       "      <td>https://en.wikipedia.org/wiki/Electric_charge</td>\n",
       "      <td>CC BY-SA 3.0</td>\n",
       "      <td>Charge is the fundamental property of forms of...</td>\n",
       "      <td>-4</td>\n",
       "      <td>0.642028</td>\n",
       "      <td>1229</td>\n",
       "    </tr>\n",
       "    <tr>\n",
       "      <th>354</th>\n",
       "      <td>7c732b8bb</td>\n",
       "      <td>https://en.wikipedia.org/wiki/Environmental_sc...</td>\n",
       "      <td>CC BY-SA 3.0</td>\n",
       "      <td>Environmental science is an interdisciplinary ...</td>\n",
       "      <td>-4</td>\n",
       "      <td>0.555843</td>\n",
       "      <td>1253</td>\n",
       "    </tr>\n",
       "    <tr>\n",
       "      <th>375</th>\n",
       "      <td>273baf218</td>\n",
       "      <td>https://en.wikipedia.org/wiki/Fulldome</td>\n",
       "      <td>CC BY-SA 3.0</td>\n",
       "      <td>Fulldome refers to immersive dome-based video ...</td>\n",
       "      <td>-4</td>\n",
       "      <td>0.648733</td>\n",
       "      <td>1217</td>\n",
       "    </tr>\n",
       "    <tr>\n",
       "      <th>457</th>\n",
       "      <td>29cd28197</td>\n",
       "      <td>https://en.wikipedia.org/wiki/Light-year</td>\n",
       "      <td>CC BY-SA 3.0</td>\n",
       "      <td>The light-year is a unit of length used to exp...</td>\n",
       "      <td>-4</td>\n",
       "      <td>0.581264</td>\n",
       "      <td>1062</td>\n",
       "    </tr>\n",
       "    <tr>\n",
       "      <th>...</th>\n",
       "      <td>...</td>\n",
       "      <td>...</td>\n",
       "      <td>...</td>\n",
       "      <td>...</td>\n",
       "      <td>...</td>\n",
       "      <td>...</td>\n",
       "      <td>...</td>\n",
       "    </tr>\n",
       "    <tr>\n",
       "      <th>2625</th>\n",
       "      <td>9cbc92ce1</td>\n",
       "      <td>NaN</td>\n",
       "      <td>NaN</td>\n",
       "      <td>The next contest was that with the cestus, the...</td>\n",
       "      <td>-4</td>\n",
       "      <td>0.532321</td>\n",
       "      <td>1019</td>\n",
       "    </tr>\n",
       "    <tr>\n",
       "      <th>2654</th>\n",
       "      <td>04ade0eb2</td>\n",
       "      <td>NaN</td>\n",
       "      <td>NaN</td>\n",
       "      <td>While I was hailing the brig, I spied a tract ...</td>\n",
       "      <td>-4</td>\n",
       "      <td>0.544735</td>\n",
       "      <td>857</td>\n",
       "    </tr>\n",
       "    <tr>\n",
       "      <th>2726</th>\n",
       "      <td>c4704e381</td>\n",
       "      <td>NaN</td>\n",
       "      <td>NaN</td>\n",
       "      <td>Dr. Eder has for a considerable time directed ...</td>\n",
       "      <td>-4</td>\n",
       "      <td>0.541969</td>\n",
       "      <td>1128</td>\n",
       "    </tr>\n",
       "    <tr>\n",
       "      <th>2735</th>\n",
       "      <td>a60686533</td>\n",
       "      <td>NaN</td>\n",
       "      <td>NaN</td>\n",
       "      <td>In 1820 Mr. Cecil, of Cambridge, proposed the ...</td>\n",
       "      <td>-4</td>\n",
       "      <td>0.566617</td>\n",
       "      <td>937</td>\n",
       "    </tr>\n",
       "    <tr>\n",
       "      <th>2770</th>\n",
       "      <td>3e854ccc5</td>\n",
       "      <td>NaN</td>\n",
       "      <td>NaN</td>\n",
       "      <td>For staining Bacillus tuberculosis the followi...</td>\n",
       "      <td>-4</td>\n",
       "      <td>0.568356</td>\n",
       "      <td>1058</td>\n",
       "    </tr>\n",
       "  </tbody>\n",
       "</table>\n",
       "<p>75 rows × 7 columns</p>\n",
       "</div>"
      ],
      "text/plain": [
       "             id                                          url_legal  \\\n",
       "10    c57b50918                                                NaN   \n",
       "344   c56b17080      https://en.wikipedia.org/wiki/Electric_charge   \n",
       "354   7c732b8bb  https://en.wikipedia.org/wiki/Environmental_sc...   \n",
       "375   273baf218             https://en.wikipedia.org/wiki/Fulldome   \n",
       "457   29cd28197           https://en.wikipedia.org/wiki/Light-year   \n",
       "...         ...                                                ...   \n",
       "2625  9cbc92ce1                                                NaN   \n",
       "2654  04ade0eb2                                                NaN   \n",
       "2726  c4704e381                                                NaN   \n",
       "2735  a60686533                                                NaN   \n",
       "2770  3e854ccc5                                                NaN   \n",
       "\n",
       "           license                                            excerpt  target  \\\n",
       "10             NaN  It was believed by the principal men of Virgin...      -4   \n",
       "344   CC BY-SA 3.0  Charge is the fundamental property of forms of...      -4   \n",
       "354   CC BY-SA 3.0  Environmental science is an interdisciplinary ...      -4   \n",
       "375   CC BY-SA 3.0  Fulldome refers to immersive dome-based video ...      -4   \n",
       "457   CC BY-SA 3.0  The light-year is a unit of length used to exp...      -4   \n",
       "...            ...                                                ...     ...   \n",
       "2625           NaN  The next contest was that with the cestus, the...      -4   \n",
       "2654           NaN  While I was hailing the brig, I spied a tract ...      -4   \n",
       "2726           NaN  Dr. Eder has for a considerable time directed ...      -4   \n",
       "2735           NaN  In 1820 Mr. Cecil, of Cambridge, proposed the ...      -4   \n",
       "2770           NaN  For staining Bacillus tuberculosis the followi...      -4   \n",
       "\n",
       "      standard_error  length  \n",
       "10          0.553260    1105  \n",
       "344         0.642028    1229  \n",
       "354         0.555843    1253  \n",
       "375         0.648733    1217  \n",
       "457         0.581264    1062  \n",
       "...              ...     ...  \n",
       "2625        0.532321    1019  \n",
       "2654        0.544735     857  \n",
       "2726        0.541969    1128  \n",
       "2735        0.566617     937  \n",
       "2770        0.568356    1058  \n",
       "\n",
       "[75 rows x 7 columns]"
      ]
     },
     "execution_count": 119,
     "metadata": {},
     "output_type": "execute_result"
    }
   ],
   "source": [
    "cls1"
   ]
  },
  {
   "cell_type": "code",
   "execution_count": 120,
   "metadata": {},
   "outputs": [
    {
     "data": {
      "text/html": [
       "<div>\n",
       "<style scoped>\n",
       "    .dataframe tbody tr th:only-of-type {\n",
       "        vertical-align: middle;\n",
       "    }\n",
       "\n",
       "    .dataframe tbody tr th {\n",
       "        vertical-align: top;\n",
       "    }\n",
       "\n",
       "    .dataframe thead th {\n",
       "        text-align: right;\n",
       "    }\n",
       "</style>\n",
       "<table border=\"1\" class=\"dataframe\">\n",
       "  <thead>\n",
       "    <tr style=\"text-align: right;\">\n",
       "      <th></th>\n",
       "      <th>id</th>\n",
       "      <th>url_legal</th>\n",
       "      <th>license</th>\n",
       "      <th>excerpt</th>\n",
       "      <th>target</th>\n",
       "      <th>standard_error</th>\n",
       "      <th>length</th>\n",
       "    </tr>\n",
       "  </thead>\n",
       "  <tbody>\n",
       "    <tr>\n",
       "      <th>11</th>\n",
       "      <td>8d8a2667f</td>\n",
       "      <td>NaN</td>\n",
       "      <td>NaN</td>\n",
       "      <td>This Pedrarias was seventy-two years old. He w...</td>\n",
       "      <td>-3</td>\n",
       "      <td>0.518351</td>\n",
       "      <td>873</td>\n",
       "    </tr>\n",
       "    <tr>\n",
       "      <th>23</th>\n",
       "      <td>66f0a9ff1</td>\n",
       "      <td>NaN</td>\n",
       "      <td>NaN</td>\n",
       "      <td>If nature afflicts in one direction she freque...</td>\n",
       "      <td>-3</td>\n",
       "      <td>0.526079</td>\n",
       "      <td>956</td>\n",
       "    </tr>\n",
       "    <tr>\n",
       "      <th>120</th>\n",
       "      <td>833efe648</td>\n",
       "      <td>NaN</td>\n",
       "      <td>NaN</td>\n",
       "      <td>In those days there were none of the thousand ...</td>\n",
       "      <td>-3</td>\n",
       "      <td>0.513090</td>\n",
       "      <td>912</td>\n",
       "    </tr>\n",
       "    <tr>\n",
       "      <th>127</th>\n",
       "      <td>0cdf53452</td>\n",
       "      <td>NaN</td>\n",
       "      <td>NaN</td>\n",
       "      <td>It so happened that Worcester was captain of B...</td>\n",
       "      <td>-3</td>\n",
       "      <td>0.521126</td>\n",
       "      <td>1108</td>\n",
       "    </tr>\n",
       "    <tr>\n",
       "      <th>130</th>\n",
       "      <td>ed7084c72</td>\n",
       "      <td>NaN</td>\n",
       "      <td>NaN</td>\n",
       "      <td>The team to play in any match was always put u...</td>\n",
       "      <td>-3</td>\n",
       "      <td>0.472213</td>\n",
       "      <td>1050</td>\n",
       "    </tr>\n",
       "    <tr>\n",
       "      <th>...</th>\n",
       "      <td>...</td>\n",
       "      <td>...</td>\n",
       "      <td>...</td>\n",
       "      <td>...</td>\n",
       "      <td>...</td>\n",
       "      <td>...</td>\n",
       "      <td>...</td>\n",
       "    </tr>\n",
       "    <tr>\n",
       "      <th>2805</th>\n",
       "      <td>a895fc4a7</td>\n",
       "      <td>https://en.wikipedia.org/wiki/Artificial_cardi...</td>\n",
       "      <td>CC BY-SA 3.0</td>\n",
       "      <td>A major step forward in pacemaker function has...</td>\n",
       "      <td>-3</td>\n",
       "      <td>0.518322</td>\n",
       "      <td>1341</td>\n",
       "    </tr>\n",
       "    <tr>\n",
       "      <th>2808</th>\n",
       "      <td>3ba0b1f96</td>\n",
       "      <td>https://en.wikipedia.org/wiki/Artificial_photo...</td>\n",
       "      <td>CC BY-SA 3.0</td>\n",
       "      <td>Artificial photosynthesis is a chemical proces...</td>\n",
       "      <td>-3</td>\n",
       "      <td>0.485316</td>\n",
       "      <td>1048</td>\n",
       "    </tr>\n",
       "    <tr>\n",
       "      <th>2809</th>\n",
       "      <td>24288b9a5</td>\n",
       "      <td>https://en.wikipedia.org/wiki/Assyria</td>\n",
       "      <td>CC BY-SA 3.0</td>\n",
       "      <td>Assyrian architecture, like that of Babylonia,...</td>\n",
       "      <td>-3</td>\n",
       "      <td>0.476487</td>\n",
       "      <td>1134</td>\n",
       "    </tr>\n",
       "    <tr>\n",
       "      <th>2811</th>\n",
       "      <td>2b3f1f54e</td>\n",
       "      <td>https://en.wikipedia.org/wiki/Astronomical_object</td>\n",
       "      <td>CC BY-SA 3.0</td>\n",
       "      <td>The universe can be viewed as having a hierarc...</td>\n",
       "      <td>-3</td>\n",
       "      <td>0.504156</td>\n",
       "      <td>1148</td>\n",
       "    </tr>\n",
       "    <tr>\n",
       "      <th>2814</th>\n",
       "      <td>f482c02a0</td>\n",
       "      <td>https://en.wikipedia.org/wiki/Augmented_reality</td>\n",
       "      <td>CC BY-SA 3.0</td>\n",
       "      <td>Augmented reality (AR) is a live direct or ind...</td>\n",
       "      <td>-3</td>\n",
       "      <td>0.552187</td>\n",
       "      <td>1173</td>\n",
       "    </tr>\n",
       "  </tbody>\n",
       "</table>\n",
       "<p>421 rows × 7 columns</p>\n",
       "</div>"
      ],
      "text/plain": [
       "             id                                          url_legal  \\\n",
       "11    8d8a2667f                                                NaN   \n",
       "23    66f0a9ff1                                                NaN   \n",
       "120   833efe648                                                NaN   \n",
       "127   0cdf53452                                                NaN   \n",
       "130   ed7084c72                                                NaN   \n",
       "...         ...                                                ...   \n",
       "2805  a895fc4a7  https://en.wikipedia.org/wiki/Artificial_cardi...   \n",
       "2808  3ba0b1f96  https://en.wikipedia.org/wiki/Artificial_photo...   \n",
       "2809  24288b9a5              https://en.wikipedia.org/wiki/Assyria   \n",
       "2811  2b3f1f54e  https://en.wikipedia.org/wiki/Astronomical_object   \n",
       "2814  f482c02a0    https://en.wikipedia.org/wiki/Augmented_reality   \n",
       "\n",
       "           license                                            excerpt  target  \\\n",
       "11             NaN  This Pedrarias was seventy-two years old. He w...      -3   \n",
       "23             NaN  If nature afflicts in one direction she freque...      -3   \n",
       "120            NaN  In those days there were none of the thousand ...      -3   \n",
       "127            NaN  It so happened that Worcester was captain of B...      -3   \n",
       "130            NaN  The team to play in any match was always put u...      -3   \n",
       "...            ...                                                ...     ...   \n",
       "2805  CC BY-SA 3.0  A major step forward in pacemaker function has...      -3   \n",
       "2808  CC BY-SA 3.0  Artificial photosynthesis is a chemical proces...      -3   \n",
       "2809  CC BY-SA 3.0  Assyrian architecture, like that of Babylonia,...      -3   \n",
       "2811  CC BY-SA 3.0  The universe can be viewed as having a hierarc...      -3   \n",
       "2814  CC BY-SA 3.0  Augmented reality (AR) is a live direct or ind...      -3   \n",
       "\n",
       "      standard_error  length  \n",
       "11          0.518351     873  \n",
       "23          0.526079     956  \n",
       "120         0.513090     912  \n",
       "127         0.521126    1108  \n",
       "130         0.472213    1050  \n",
       "...              ...     ...  \n",
       "2805        0.518322    1341  \n",
       "2808        0.485316    1048  \n",
       "2809        0.476487    1134  \n",
       "2811        0.504156    1148  \n",
       "2814        0.552187    1173  \n",
       "\n",
       "[421 rows x 7 columns]"
      ]
     },
     "execution_count": 120,
     "metadata": {},
     "output_type": "execute_result"
    }
   ],
   "source": [
    "cls2"
   ]
  },
  {
   "cell_type": "code",
   "execution_count": 121,
   "metadata": {},
   "outputs": [
    {
     "data": {
      "text/html": [
       "<div>\n",
       "<style scoped>\n",
       "    .dataframe tbody tr th:only-of-type {\n",
       "        vertical-align: middle;\n",
       "    }\n",
       "\n",
       "    .dataframe tbody tr th {\n",
       "        vertical-align: top;\n",
       "    }\n",
       "\n",
       "    .dataframe thead th {\n",
       "        text-align: right;\n",
       "    }\n",
       "</style>\n",
       "<table border=\"1\" class=\"dataframe\">\n",
       "  <thead>\n",
       "    <tr style=\"text-align: right;\">\n",
       "      <th></th>\n",
       "      <th>id</th>\n",
       "      <th>url_legal</th>\n",
       "      <th>license</th>\n",
       "      <th>excerpt</th>\n",
       "      <th>target</th>\n",
       "      <th>standard_error</th>\n",
       "      <th>length</th>\n",
       "    </tr>\n",
       "  </thead>\n",
       "  <tbody>\n",
       "    <tr>\n",
       "      <th>3</th>\n",
       "      <td>dd1000b26</td>\n",
       "      <td>NaN</td>\n",
       "      <td>NaN</td>\n",
       "      <td>And outside before the palace a great garden w...</td>\n",
       "      <td>-2</td>\n",
       "      <td>0.450007</td>\n",
       "      <td>909</td>\n",
       "    </tr>\n",
       "    <tr>\n",
       "      <th>6</th>\n",
       "      <td>eaf8e7355</td>\n",
       "      <td>NaN</td>\n",
       "      <td>NaN</td>\n",
       "      <td>Hal Paine and Chester Crawford were typical Am...</td>\n",
       "      <td>-2</td>\n",
       "      <td>0.476507</td>\n",
       "      <td>1024</td>\n",
       "    </tr>\n",
       "    <tr>\n",
       "      <th>9</th>\n",
       "      <td>d96e6dbcd</td>\n",
       "      <td>NaN</td>\n",
       "      <td>NaN</td>\n",
       "      <td>One day he had gone beyond any point which he ...</td>\n",
       "      <td>-2</td>\n",
       "      <td>0.465900</td>\n",
       "      <td>1026</td>\n",
       "    </tr>\n",
       "    <tr>\n",
       "      <th>12</th>\n",
       "      <td>a0d4cd896</td>\n",
       "      <td>NaN</td>\n",
       "      <td>NaN</td>\n",
       "      <td>The Emperor walked nervously up and down the l...</td>\n",
       "      <td>-2</td>\n",
       "      <td>0.494799</td>\n",
       "      <td>1084</td>\n",
       "    </tr>\n",
       "    <tr>\n",
       "      <th>16</th>\n",
       "      <td>7656dea91</td>\n",
       "      <td>NaN</td>\n",
       "      <td>NaN</td>\n",
       "      <td>Her name was Simpkins, and her cottage was jus...</td>\n",
       "      <td>-2</td>\n",
       "      <td>0.470564</td>\n",
       "      <td>936</td>\n",
       "    </tr>\n",
       "    <tr>\n",
       "      <th>...</th>\n",
       "      <td>...</td>\n",
       "      <td>...</td>\n",
       "      <td>...</td>\n",
       "      <td>...</td>\n",
       "      <td>...</td>\n",
       "      <td>...</td>\n",
       "      <td>...</td>\n",
       "    </tr>\n",
       "    <tr>\n",
       "      <th>2804</th>\n",
       "      <td>2985f4021</td>\n",
       "      <td>https://en.wikipedia.org/wiki/Appropriation_bill</td>\n",
       "      <td>CC BY-SA 3.0</td>\n",
       "      <td>An appropriation bill or running bill or suppl...</td>\n",
       "      <td>-2</td>\n",
       "      <td>0.444110</td>\n",
       "      <td>916</td>\n",
       "    </tr>\n",
       "    <tr>\n",
       "      <th>2806</th>\n",
       "      <td>4d403fd57</td>\n",
       "      <td>https://en.wikipedia.org/wiki/Artificial_intel...</td>\n",
       "      <td>CC BY-SA 3.0</td>\n",
       "      <td>Artificial intelligence (AI) is intelligence e...</td>\n",
       "      <td>-2</td>\n",
       "      <td>0.458396</td>\n",
       "      <td>982</td>\n",
       "    </tr>\n",
       "    <tr>\n",
       "      <th>2807</th>\n",
       "      <td>14972af78</td>\n",
       "      <td>https://en.wikipedia.org/wiki/Artificial_muscle</td>\n",
       "      <td>CC BY-SA 3.0</td>\n",
       "      <td>Artificial muscle is a generic term used for m...</td>\n",
       "      <td>-2</td>\n",
       "      <td>0.471585</td>\n",
       "      <td>966</td>\n",
       "    </tr>\n",
       "    <tr>\n",
       "      <th>2815</th>\n",
       "      <td>df6f22f73</td>\n",
       "      <td>https://www.africanstorybook.org/</td>\n",
       "      <td>CC BY 4.0</td>\n",
       "      <td>Likhutu was enticed by the aroma of the mandaz...</td>\n",
       "      <td>-2</td>\n",
       "      <td>0.482629</td>\n",
       "      <td>1090</td>\n",
       "    </tr>\n",
       "    <tr>\n",
       "      <th>2816</th>\n",
       "      <td>7382b7a7a</td>\n",
       "      <td>https://en.wikipedia.org/wiki/Automotive_head-...</td>\n",
       "      <td>CC BY-SA 3.0</td>\n",
       "      <td>Reaction time, and more specifically delayed r...</td>\n",
       "      <td>-2</td>\n",
       "      <td>0.505476</td>\n",
       "      <td>1064</td>\n",
       "    </tr>\n",
       "  </tbody>\n",
       "</table>\n",
       "<p>835 rows × 7 columns</p>\n",
       "</div>"
      ],
      "text/plain": [
       "             id                                          url_legal  \\\n",
       "3     dd1000b26                                                NaN   \n",
       "6     eaf8e7355                                                NaN   \n",
       "9     d96e6dbcd                                                NaN   \n",
       "12    a0d4cd896                                                NaN   \n",
       "16    7656dea91                                                NaN   \n",
       "...         ...                                                ...   \n",
       "2804  2985f4021   https://en.wikipedia.org/wiki/Appropriation_bill   \n",
       "2806  4d403fd57  https://en.wikipedia.org/wiki/Artificial_intel...   \n",
       "2807  14972af78    https://en.wikipedia.org/wiki/Artificial_muscle   \n",
       "2815  df6f22f73                  https://www.africanstorybook.org/   \n",
       "2816  7382b7a7a  https://en.wikipedia.org/wiki/Automotive_head-...   \n",
       "\n",
       "           license                                            excerpt  target  \\\n",
       "3              NaN  And outside before the palace a great garden w...      -2   \n",
       "6              NaN  Hal Paine and Chester Crawford were typical Am...      -2   \n",
       "9              NaN  One day he had gone beyond any point which he ...      -2   \n",
       "12             NaN  The Emperor walked nervously up and down the l...      -2   \n",
       "16             NaN  Her name was Simpkins, and her cottage was jus...      -2   \n",
       "...            ...                                                ...     ...   \n",
       "2804  CC BY-SA 3.0  An appropriation bill or running bill or suppl...      -2   \n",
       "2806  CC BY-SA 3.0  Artificial intelligence (AI) is intelligence e...      -2   \n",
       "2807  CC BY-SA 3.0  Artificial muscle is a generic term used for m...      -2   \n",
       "2815     CC BY 4.0  Likhutu was enticed by the aroma of the mandaz...      -2   \n",
       "2816  CC BY-SA 3.0  Reaction time, and more specifically delayed r...      -2   \n",
       "\n",
       "      standard_error  length  \n",
       "3           0.450007     909  \n",
       "6           0.476507    1024  \n",
       "9           0.465900    1026  \n",
       "12          0.494799    1084  \n",
       "16          0.470564     936  \n",
       "...              ...     ...  \n",
       "2804        0.444110     916  \n",
       "2806        0.458396     982  \n",
       "2807        0.471585     966  \n",
       "2815        0.482629    1090  \n",
       "2816        0.505476    1064  \n",
       "\n",
       "[835 rows x 7 columns]"
      ]
     },
     "execution_count": 121,
     "metadata": {},
     "output_type": "execute_result"
    }
   ],
   "source": [
    "cls3"
   ]
  },
  {
   "cell_type": "code",
   "execution_count": 122,
   "metadata": {},
   "outputs": [
    {
     "data": {
      "text/html": [
       "<div>\n",
       "<style scoped>\n",
       "    .dataframe tbody tr th:only-of-type {\n",
       "        vertical-align: middle;\n",
       "    }\n",
       "\n",
       "    .dataframe tbody tr th {\n",
       "        vertical-align: top;\n",
       "    }\n",
       "\n",
       "    .dataframe thead th {\n",
       "        text-align: right;\n",
       "    }\n",
       "</style>\n",
       "<table border=\"1\" class=\"dataframe\">\n",
       "  <thead>\n",
       "    <tr style=\"text-align: right;\">\n",
       "      <th></th>\n",
       "      <th>id</th>\n",
       "      <th>url_legal</th>\n",
       "      <th>license</th>\n",
       "      <th>excerpt</th>\n",
       "      <th>target</th>\n",
       "      <th>standard_error</th>\n",
       "      <th>length</th>\n",
       "    </tr>\n",
       "  </thead>\n",
       "  <tbody>\n",
       "    <tr>\n",
       "      <th>3</th>\n",
       "      <td>dd1000b26</td>\n",
       "      <td>NaN</td>\n",
       "      <td>NaN</td>\n",
       "      <td>And outside before the palace a great garden w...</td>\n",
       "      <td>-2</td>\n",
       "      <td>0.450007</td>\n",
       "      <td>909</td>\n",
       "    </tr>\n",
       "    <tr>\n",
       "      <th>6</th>\n",
       "      <td>eaf8e7355</td>\n",
       "      <td>NaN</td>\n",
       "      <td>NaN</td>\n",
       "      <td>Hal Paine and Chester Crawford were typical Am...</td>\n",
       "      <td>-2</td>\n",
       "      <td>0.476507</td>\n",
       "      <td>1024</td>\n",
       "    </tr>\n",
       "    <tr>\n",
       "      <th>9</th>\n",
       "      <td>d96e6dbcd</td>\n",
       "      <td>NaN</td>\n",
       "      <td>NaN</td>\n",
       "      <td>One day he had gone beyond any point which he ...</td>\n",
       "      <td>-2</td>\n",
       "      <td>0.465900</td>\n",
       "      <td>1026</td>\n",
       "    </tr>\n",
       "    <tr>\n",
       "      <th>12</th>\n",
       "      <td>a0d4cd896</td>\n",
       "      <td>NaN</td>\n",
       "      <td>NaN</td>\n",
       "      <td>The Emperor walked nervously up and down the l...</td>\n",
       "      <td>-2</td>\n",
       "      <td>0.494799</td>\n",
       "      <td>1084</td>\n",
       "    </tr>\n",
       "    <tr>\n",
       "      <th>16</th>\n",
       "      <td>7656dea91</td>\n",
       "      <td>NaN</td>\n",
       "      <td>NaN</td>\n",
       "      <td>Her name was Simpkins, and her cottage was jus...</td>\n",
       "      <td>-2</td>\n",
       "      <td>0.470564</td>\n",
       "      <td>936</td>\n",
       "    </tr>\n",
       "    <tr>\n",
       "      <th>...</th>\n",
       "      <td>...</td>\n",
       "      <td>...</td>\n",
       "      <td>...</td>\n",
       "      <td>...</td>\n",
       "      <td>...</td>\n",
       "      <td>...</td>\n",
       "      <td>...</td>\n",
       "    </tr>\n",
       "    <tr>\n",
       "      <th>2804</th>\n",
       "      <td>2985f4021</td>\n",
       "      <td>https://en.wikipedia.org/wiki/Appropriation_bill</td>\n",
       "      <td>CC BY-SA 3.0</td>\n",
       "      <td>An appropriation bill or running bill or suppl...</td>\n",
       "      <td>-2</td>\n",
       "      <td>0.444110</td>\n",
       "      <td>916</td>\n",
       "    </tr>\n",
       "    <tr>\n",
       "      <th>2806</th>\n",
       "      <td>4d403fd57</td>\n",
       "      <td>https://en.wikipedia.org/wiki/Artificial_intel...</td>\n",
       "      <td>CC BY-SA 3.0</td>\n",
       "      <td>Artificial intelligence (AI) is intelligence e...</td>\n",
       "      <td>-2</td>\n",
       "      <td>0.458396</td>\n",
       "      <td>982</td>\n",
       "    </tr>\n",
       "    <tr>\n",
       "      <th>2807</th>\n",
       "      <td>14972af78</td>\n",
       "      <td>https://en.wikipedia.org/wiki/Artificial_muscle</td>\n",
       "      <td>CC BY-SA 3.0</td>\n",
       "      <td>Artificial muscle is a generic term used for m...</td>\n",
       "      <td>-2</td>\n",
       "      <td>0.471585</td>\n",
       "      <td>966</td>\n",
       "    </tr>\n",
       "    <tr>\n",
       "      <th>2815</th>\n",
       "      <td>df6f22f73</td>\n",
       "      <td>https://www.africanstorybook.org/</td>\n",
       "      <td>CC BY 4.0</td>\n",
       "      <td>Likhutu was enticed by the aroma of the mandaz...</td>\n",
       "      <td>-2</td>\n",
       "      <td>0.482629</td>\n",
       "      <td>1090</td>\n",
       "    </tr>\n",
       "    <tr>\n",
       "      <th>2816</th>\n",
       "      <td>7382b7a7a</td>\n",
       "      <td>https://en.wikipedia.org/wiki/Automotive_head-...</td>\n",
       "      <td>CC BY-SA 3.0</td>\n",
       "      <td>Reaction time, and more specifically delayed r...</td>\n",
       "      <td>-2</td>\n",
       "      <td>0.505476</td>\n",
       "      <td>1064</td>\n",
       "    </tr>\n",
       "  </tbody>\n",
       "</table>\n",
       "<p>835 rows × 7 columns</p>\n",
       "</div>"
      ],
      "text/plain": [
       "             id                                          url_legal  \\\n",
       "3     dd1000b26                                                NaN   \n",
       "6     eaf8e7355                                                NaN   \n",
       "9     d96e6dbcd                                                NaN   \n",
       "12    a0d4cd896                                                NaN   \n",
       "16    7656dea91                                                NaN   \n",
       "...         ...                                                ...   \n",
       "2804  2985f4021   https://en.wikipedia.org/wiki/Appropriation_bill   \n",
       "2806  4d403fd57  https://en.wikipedia.org/wiki/Artificial_intel...   \n",
       "2807  14972af78    https://en.wikipedia.org/wiki/Artificial_muscle   \n",
       "2815  df6f22f73                  https://www.africanstorybook.org/   \n",
       "2816  7382b7a7a  https://en.wikipedia.org/wiki/Automotive_head-...   \n",
       "\n",
       "           license                                            excerpt  target  \\\n",
       "3              NaN  And outside before the palace a great garden w...      -2   \n",
       "6              NaN  Hal Paine and Chester Crawford were typical Am...      -2   \n",
       "9              NaN  One day he had gone beyond any point which he ...      -2   \n",
       "12             NaN  The Emperor walked nervously up and down the l...      -2   \n",
       "16             NaN  Her name was Simpkins, and her cottage was jus...      -2   \n",
       "...            ...                                                ...     ...   \n",
       "2804  CC BY-SA 3.0  An appropriation bill or running bill or suppl...      -2   \n",
       "2806  CC BY-SA 3.0  Artificial intelligence (AI) is intelligence e...      -2   \n",
       "2807  CC BY-SA 3.0  Artificial muscle is a generic term used for m...      -2   \n",
       "2815     CC BY 4.0  Likhutu was enticed by the aroma of the mandaz...      -2   \n",
       "2816  CC BY-SA 3.0  Reaction time, and more specifically delayed r...      -2   \n",
       "\n",
       "      standard_error  length  \n",
       "3           0.450007     909  \n",
       "6           0.476507    1024  \n",
       "9           0.465900    1026  \n",
       "12          0.494799    1084  \n",
       "16          0.470564     936  \n",
       "...              ...     ...  \n",
       "2804        0.444110     916  \n",
       "2806        0.458396     982  \n",
       "2807        0.471585     966  \n",
       "2815        0.482629    1090  \n",
       "2816        0.505476    1064  \n",
       "\n",
       "[835 rows x 7 columns]"
      ]
     },
     "execution_count": 122,
     "metadata": {},
     "output_type": "execute_result"
    }
   ],
   "source": [
    "cls4"
   ]
  },
  {
   "cell_type": "code",
   "execution_count": 123,
   "metadata": {},
   "outputs": [
    {
     "data": {
      "text/html": [
       "<div>\n",
       "<style scoped>\n",
       "    .dataframe tbody tr th:only-of-type {\n",
       "        vertical-align: middle;\n",
       "    }\n",
       "\n",
       "    .dataframe tbody tr th {\n",
       "        vertical-align: top;\n",
       "    }\n",
       "\n",
       "    .dataframe thead th {\n",
       "        text-align: right;\n",
       "    }\n",
       "</style>\n",
       "<table border=\"1\" class=\"dataframe\">\n",
       "  <thead>\n",
       "    <tr style=\"text-align: right;\">\n",
       "      <th></th>\n",
       "      <th>id</th>\n",
       "      <th>url_legal</th>\n",
       "      <th>license</th>\n",
       "      <th>excerpt</th>\n",
       "      <th>target</th>\n",
       "      <th>standard_error</th>\n",
       "      <th>length</th>\n",
       "    </tr>\n",
       "  </thead>\n",
       "  <tbody>\n",
       "    <tr>\n",
       "      <th>0</th>\n",
       "      <td>c12129c31</td>\n",
       "      <td>NaN</td>\n",
       "      <td>NaN</td>\n",
       "      <td>When the young people returned to the ballroom...</td>\n",
       "      <td>0</td>\n",
       "      <td>0.464009</td>\n",
       "      <td>992</td>\n",
       "    </tr>\n",
       "    <tr>\n",
       "      <th>1</th>\n",
       "      <td>85aa80a4c</td>\n",
       "      <td>NaN</td>\n",
       "      <td>NaN</td>\n",
       "      <td>All through dinner time, Mrs. Fayre was somewh...</td>\n",
       "      <td>0</td>\n",
       "      <td>0.480805</td>\n",
       "      <td>937</td>\n",
       "    </tr>\n",
       "    <tr>\n",
       "      <th>4</th>\n",
       "      <td>37c1b32fb</td>\n",
       "      <td>NaN</td>\n",
       "      <td>NaN</td>\n",
       "      <td>Once upon a time there were Three Bears who li...</td>\n",
       "      <td>0</td>\n",
       "      <td>0.510845</td>\n",
       "      <td>723</td>\n",
       "    </tr>\n",
       "    <tr>\n",
       "      <th>8</th>\n",
       "      <td>f7eff7419</td>\n",
       "      <td>NaN</td>\n",
       "      <td>NaN</td>\n",
       "      <td>The boys left the capitol and made their way d...</td>\n",
       "      <td>0</td>\n",
       "      <td>0.463710</td>\n",
       "      <td>903</td>\n",
       "    </tr>\n",
       "    <tr>\n",
       "      <th>13</th>\n",
       "      <td>0963b8cf9</td>\n",
       "      <td>NaN</td>\n",
       "      <td>NaN</td>\n",
       "      <td>The clock in a nearby church struck the hour o...</td>\n",
       "      <td>0</td>\n",
       "      <td>0.471694</td>\n",
       "      <td>1081</td>\n",
       "    </tr>\n",
       "    <tr>\n",
       "      <th>...</th>\n",
       "      <td>...</td>\n",
       "      <td>...</td>\n",
       "      <td>...</td>\n",
       "      <td>...</td>\n",
       "      <td>...</td>\n",
       "      <td>...</td>\n",
       "      <td>...</td>\n",
       "    </tr>\n",
       "    <tr>\n",
       "      <th>2824</th>\n",
       "      <td>9c5ff50d5</td>\n",
       "      <td>https://en.wikibooks.org/wiki/Wikijunior:Human...</td>\n",
       "      <td>CC BY-SA 3.0</td>\n",
       "      <td>Eyes are made of several different parts. The ...</td>\n",
       "      <td>0</td>\n",
       "      <td>0.468218</td>\n",
       "      <td>816</td>\n",
       "    </tr>\n",
       "    <tr>\n",
       "      <th>2830</th>\n",
       "      <td>2c26db523</td>\n",
       "      <td>https://en.wikibooks.org/wiki/Wikijunior:The_E...</td>\n",
       "      <td>CC BY-SA 3.0</td>\n",
       "      <td>So what is a solid? Solids are usually hard be...</td>\n",
       "      <td>0</td>\n",
       "      <td>0.535648</td>\n",
       "      <td>890</td>\n",
       "    </tr>\n",
       "    <tr>\n",
       "      <th>2831</th>\n",
       "      <td>cd19e2350</td>\n",
       "      <td>https://en.wikibooks.org/wiki/Wikijunior:The_E...</td>\n",
       "      <td>CC BY-SA 3.0</td>\n",
       "      <td>The second state of matter we will discuss is ...</td>\n",
       "      <td>0</td>\n",
       "      <td>0.483866</td>\n",
       "      <td>949</td>\n",
       "    </tr>\n",
       "    <tr>\n",
       "      <th>2832</th>\n",
       "      <td>15e2e9e7a</td>\n",
       "      <td>https://en.wikibooks.org/wiki/Geometry_for_Ele...</td>\n",
       "      <td>CC BY-SA 3.0</td>\n",
       "      <td>Solids are shapes that you can actually touch....</td>\n",
       "      <td>0</td>\n",
       "      <td>0.514128</td>\n",
       "      <td>864</td>\n",
       "    </tr>\n",
       "    <tr>\n",
       "      <th>2833</th>\n",
       "      <td>5b990ba77</td>\n",
       "      <td>https://en.wikibooks.org/wiki/Wikijunior:Biolo...</td>\n",
       "      <td>CC BY-SA 3.0</td>\n",
       "      <td>Animals are made of many cells. They eat thing...</td>\n",
       "      <td>0</td>\n",
       "      <td>0.512379</td>\n",
       "      <td>885</td>\n",
       "    </tr>\n",
       "  </tbody>\n",
       "</table>\n",
       "<p>742 rows × 7 columns</p>\n",
       "</div>"
      ],
      "text/plain": [
       "             id                                          url_legal  \\\n",
       "0     c12129c31                                                NaN   \n",
       "1     85aa80a4c                                                NaN   \n",
       "4     37c1b32fb                                                NaN   \n",
       "8     f7eff7419                                                NaN   \n",
       "13    0963b8cf9                                                NaN   \n",
       "...         ...                                                ...   \n",
       "2824  9c5ff50d5  https://en.wikibooks.org/wiki/Wikijunior:Human...   \n",
       "2830  2c26db523  https://en.wikibooks.org/wiki/Wikijunior:The_E...   \n",
       "2831  cd19e2350  https://en.wikibooks.org/wiki/Wikijunior:The_E...   \n",
       "2832  15e2e9e7a  https://en.wikibooks.org/wiki/Geometry_for_Ele...   \n",
       "2833  5b990ba77  https://en.wikibooks.org/wiki/Wikijunior:Biolo...   \n",
       "\n",
       "           license                                            excerpt  target  \\\n",
       "0              NaN  When the young people returned to the ballroom...       0   \n",
       "1              NaN  All through dinner time, Mrs. Fayre was somewh...       0   \n",
       "4              NaN  Once upon a time there were Three Bears who li...       0   \n",
       "8              NaN  The boys left the capitol and made their way d...       0   \n",
       "13             NaN  The clock in a nearby church struck the hour o...       0   \n",
       "...            ...                                                ...     ...   \n",
       "2824  CC BY-SA 3.0  Eyes are made of several different parts. The ...       0   \n",
       "2830  CC BY-SA 3.0  So what is a solid? Solids are usually hard be...       0   \n",
       "2831  CC BY-SA 3.0  The second state of matter we will discuss is ...       0   \n",
       "2832  CC BY-SA 3.0  Solids are shapes that you can actually touch....       0   \n",
       "2833  CC BY-SA 3.0  Animals are made of many cells. They eat thing...       0   \n",
       "\n",
       "      standard_error  length  \n",
       "0           0.464009     992  \n",
       "1           0.480805     937  \n",
       "4           0.510845     723  \n",
       "8           0.463710     903  \n",
       "13          0.471694    1081  \n",
       "...              ...     ...  \n",
       "2824        0.468218     816  \n",
       "2830        0.535648     890  \n",
       "2831        0.483866     949  \n",
       "2832        0.514128     864  \n",
       "2833        0.512379     885  \n",
       "\n",
       "[742 rows x 7 columns]"
      ]
     },
     "execution_count": 123,
     "metadata": {},
     "output_type": "execute_result"
    }
   ],
   "source": [
    "cls5"
   ]
  },
  {
   "cell_type": "code",
   "execution_count": 124,
   "metadata": {},
   "outputs": [
    {
     "data": {
      "text/html": [
       "<div>\n",
       "<style scoped>\n",
       "    .dataframe tbody tr th:only-of-type {\n",
       "        vertical-align: middle;\n",
       "    }\n",
       "\n",
       "    .dataframe tbody tr th {\n",
       "        vertical-align: top;\n",
       "    }\n",
       "\n",
       "    .dataframe thead th {\n",
       "        text-align: right;\n",
       "    }\n",
       "</style>\n",
       "<table border=\"1\" class=\"dataframe\">\n",
       "  <thead>\n",
       "    <tr style=\"text-align: right;\">\n",
       "      <th></th>\n",
       "      <th>id</th>\n",
       "      <th>url_legal</th>\n",
       "      <th>license</th>\n",
       "      <th>excerpt</th>\n",
       "      <th>target</th>\n",
       "      <th>standard_error</th>\n",
       "      <th>length</th>\n",
       "    </tr>\n",
       "  </thead>\n",
       "  <tbody>\n",
       "    <tr>\n",
       "      <th>25</th>\n",
       "      <td>e6181a3fb</td>\n",
       "      <td>NaN</td>\n",
       "      <td>NaN</td>\n",
       "      <td>When Nick Ribsam set out to find his missing s...</td>\n",
       "      <td>1</td>\n",
       "      <td>0.515780</td>\n",
       "      <td>862</td>\n",
       "    </tr>\n",
       "    <tr>\n",
       "      <th>36</th>\n",
       "      <td>4b7a4b258</td>\n",
       "      <td>NaN</td>\n",
       "      <td>NaN</td>\n",
       "      <td>This is the story of how the swallow's tail ca...</td>\n",
       "      <td>1</td>\n",
       "      <td>0.530622</td>\n",
       "      <td>774</td>\n",
       "    </tr>\n",
       "    <tr>\n",
       "      <th>38</th>\n",
       "      <td>b8445380e</td>\n",
       "      <td>NaN</td>\n",
       "      <td>NaN</td>\n",
       "      <td>Winter was coming, and the birds had flown far...</td>\n",
       "      <td>1</td>\n",
       "      <td>0.528576</td>\n",
       "      <td>941</td>\n",
       "    </tr>\n",
       "    <tr>\n",
       "      <th>169</th>\n",
       "      <td>a1864cd44</td>\n",
       "      <td>NaN</td>\n",
       "      <td>NaN</td>\n",
       "      <td>\"Take care of yourselves,\" called grandmother,...</td>\n",
       "      <td>1</td>\n",
       "      <td>0.549995</td>\n",
       "      <td>815</td>\n",
       "    </tr>\n",
       "    <tr>\n",
       "      <th>183</th>\n",
       "      <td>2490e8a15</td>\n",
       "      <td>NaN</td>\n",
       "      <td>NaN</td>\n",
       "      <td>So the poor miller's daughter sat down. She ha...</td>\n",
       "      <td>1</td>\n",
       "      <td>0.475317</td>\n",
       "      <td>962</td>\n",
       "    </tr>\n",
       "    <tr>\n",
       "      <th>...</th>\n",
       "      <td>...</td>\n",
       "      <td>...</td>\n",
       "      <td>...</td>\n",
       "      <td>...</td>\n",
       "      <td>...</td>\n",
       "      <td>...</td>\n",
       "      <td>...</td>\n",
       "    </tr>\n",
       "    <tr>\n",
       "      <th>2820</th>\n",
       "      <td>d709d7022</td>\n",
       "      <td>https://beyondpenguins.ehe.osu.edu/issue/a-sen...</td>\n",
       "      <td>CC BY-SA 3.0</td>\n",
       "      <td>Imagine you are standing on the North Pole. Wh...</td>\n",
       "      <td>1</td>\n",
       "      <td>0.511812</td>\n",
       "      <td>803</td>\n",
       "    </tr>\n",
       "    <tr>\n",
       "      <th>2821</th>\n",
       "      <td>b9d1695e2</td>\n",
       "      <td>https://en.wikibooks.org/wiki/Wikijunior:Bugs/...</td>\n",
       "      <td>CC BY-SA 3.0</td>\n",
       "      <td>Crickets are omnivores and scavengers. They fe...</td>\n",
       "      <td>1</td>\n",
       "      <td>0.510923</td>\n",
       "      <td>864</td>\n",
       "    </tr>\n",
       "    <tr>\n",
       "      <th>2825</th>\n",
       "      <td>25f93b2f6</td>\n",
       "      <td>http://static.ehe.osu.edu/sites/beyond/penguin...</td>\n",
       "      <td>CC BY-SA 3.0</td>\n",
       "      <td>The Sun�s light shines on Earth. The light mak...</td>\n",
       "      <td>1</td>\n",
       "      <td>0.504809</td>\n",
       "      <td>923</td>\n",
       "    </tr>\n",
       "    <tr>\n",
       "      <th>2827</th>\n",
       "      <td>2baf404d8</td>\n",
       "      <td>http://static.ehe.osu.edu/sites/beyond/penguin...</td>\n",
       "      <td>CC BY-SA 3.0</td>\n",
       "      <td>Have you heard of the Arctic? It is a place at...</td>\n",
       "      <td>1</td>\n",
       "      <td>0.488086</td>\n",
       "      <td>923</td>\n",
       "    </tr>\n",
       "    <tr>\n",
       "      <th>2828</th>\n",
       "      <td>f301ff005</td>\n",
       "      <td>http://static.ehe.osu.edu/sites/beyond/penguin...</td>\n",
       "      <td>CC BY-SA 3.0</td>\n",
       "      <td>Near the top of the world is land called tundr...</td>\n",
       "      <td>1</td>\n",
       "      <td>0.505921</td>\n",
       "      <td>862</td>\n",
       "    </tr>\n",
       "  </tbody>\n",
       "</table>\n",
       "<p>167 rows × 7 columns</p>\n",
       "</div>"
      ],
      "text/plain": [
       "             id                                          url_legal  \\\n",
       "25    e6181a3fb                                                NaN   \n",
       "36    4b7a4b258                                                NaN   \n",
       "38    b8445380e                                                NaN   \n",
       "169   a1864cd44                                                NaN   \n",
       "183   2490e8a15                                                NaN   \n",
       "...         ...                                                ...   \n",
       "2820  d709d7022  https://beyondpenguins.ehe.osu.edu/issue/a-sen...   \n",
       "2821  b9d1695e2  https://en.wikibooks.org/wiki/Wikijunior:Bugs/...   \n",
       "2825  25f93b2f6  http://static.ehe.osu.edu/sites/beyond/penguin...   \n",
       "2827  2baf404d8  http://static.ehe.osu.edu/sites/beyond/penguin...   \n",
       "2828  f301ff005  http://static.ehe.osu.edu/sites/beyond/penguin...   \n",
       "\n",
       "           license                                            excerpt  target  \\\n",
       "25             NaN  When Nick Ribsam set out to find his missing s...       1   \n",
       "36             NaN  This is the story of how the swallow's tail ca...       1   \n",
       "38             NaN  Winter was coming, and the birds had flown far...       1   \n",
       "169            NaN  \"Take care of yourselves,\" called grandmother,...       1   \n",
       "183            NaN  So the poor miller's daughter sat down. She ha...       1   \n",
       "...            ...                                                ...     ...   \n",
       "2820  CC BY-SA 3.0  Imagine you are standing on the North Pole. Wh...       1   \n",
       "2821  CC BY-SA 3.0  Crickets are omnivores and scavengers. They fe...       1   \n",
       "2825  CC BY-SA 3.0  The Sun�s light shines on Earth. The light mak...       1   \n",
       "2827  CC BY-SA 3.0  Have you heard of the Arctic? It is a place at...       1   \n",
       "2828  CC BY-SA 3.0  Near the top of the world is land called tundr...       1   \n",
       "\n",
       "      standard_error  length  \n",
       "25          0.515780     862  \n",
       "36          0.530622     774  \n",
       "38          0.528576     941  \n",
       "169         0.549995     815  \n",
       "183         0.475317     962  \n",
       "...              ...     ...  \n",
       "2820        0.511812     803  \n",
       "2821        0.510923     864  \n",
       "2825        0.504809     923  \n",
       "2827        0.488086     923  \n",
       "2828        0.505921     862  \n",
       "\n",
       "[167 rows x 7 columns]"
      ]
     },
     "execution_count": 124,
     "metadata": {},
     "output_type": "execute_result"
    }
   ],
   "source": [
    "cls6"
   ]
  },
  {
   "cell_type": "code",
   "execution_count": 125,
   "metadata": {},
   "outputs": [
    {
     "data": {
      "text/html": [
       "<div>\n",
       "<style scoped>\n",
       "    .dataframe tbody tr th:only-of-type {\n",
       "        vertical-align: middle;\n",
       "    }\n",
       "\n",
       "    .dataframe tbody tr th {\n",
       "        vertical-align: top;\n",
       "    }\n",
       "\n",
       "    .dataframe thead th {\n",
       "        text-align: right;\n",
       "    }\n",
       "</style>\n",
       "<table border=\"1\" class=\"dataframe\">\n",
       "  <thead>\n",
       "    <tr style=\"text-align: right;\">\n",
       "      <th></th>\n",
       "      <th>id</th>\n",
       "      <th>url_legal</th>\n",
       "      <th>license</th>\n",
       "      <th>excerpt</th>\n",
       "      <th>target</th>\n",
       "      <th>standard_error</th>\n",
       "      <th>length</th>\n",
       "    </tr>\n",
       "  </thead>\n",
       "  <tbody>\n",
       "    <tr>\n",
       "      <th>65</th>\n",
       "      <td>3411fc5bb</td>\n",
       "      <td>NaN</td>\n",
       "      <td>NaN</td>\n",
       "      <td>The big brown automobile gave three honks as i...</td>\n",
       "      <td>2</td>\n",
       "      <td>0.551908</td>\n",
       "      <td>852</td>\n",
       "    </tr>\n",
       "    <tr>\n",
       "      <th>240</th>\n",
       "      <td>09c41e31e</td>\n",
       "      <td>NaN</td>\n",
       "      <td>NaN</td>\n",
       "      <td>There was once a young man who spent all his t...</td>\n",
       "      <td>2</td>\n",
       "      <td>0.639018</td>\n",
       "      <td>832</td>\n",
       "    </tr>\n",
       "    <tr>\n",
       "      <th>271</th>\n",
       "      <td>cef7dd81c</td>\n",
       "      <td>https://www.africanstorybook.org/</td>\n",
       "      <td>CC BY 4.0</td>\n",
       "      <td>When going to the beach, find out which ones h...</td>\n",
       "      <td>2</td>\n",
       "      <td>0.591005</td>\n",
       "      <td>889</td>\n",
       "    </tr>\n",
       "    <tr>\n",
       "      <th>508</th>\n",
       "      <td>7364963a0</td>\n",
       "      <td>https://www.africanstorybook.org/</td>\n",
       "      <td>CC BY 4.0</td>\n",
       "      <td>As they were leaving the shop, Zethu saw an ex...</td>\n",
       "      <td>2</td>\n",
       "      <td>0.548124</td>\n",
       "      <td>825</td>\n",
       "    </tr>\n",
       "    <tr>\n",
       "      <th>564</th>\n",
       "      <td>bae209b89</td>\n",
       "      <td>https://www.africanstorybook.org/</td>\n",
       "      <td>CC BY 4.0</td>\n",
       "      <td>After a night of heavy rain, a group of friend...</td>\n",
       "      <td>2</td>\n",
       "      <td>0.615058</td>\n",
       "      <td>1084</td>\n",
       "    </tr>\n",
       "    <tr>\n",
       "      <th>584</th>\n",
       "      <td>663afa987</td>\n",
       "      <td>https://simple.wikipedia.org/wiki/Special_effect</td>\n",
       "      <td>CC BY-SA 3.0 and GFDL</td>\n",
       "      <td>Special effects is a term for the things used ...</td>\n",
       "      <td>2</td>\n",
       "      <td>0.554144</td>\n",
       "      <td>1109</td>\n",
       "    </tr>\n",
       "    <tr>\n",
       "      <th>637</th>\n",
       "      <td>7a0474321</td>\n",
       "      <td>https://www.commonlit.org/texts/laura-s-key</td>\n",
       "      <td>CC BY-NC-SA 2.0</td>\n",
       "      <td>Rubbing sleep from her eyes, Laura stumbled ou...</td>\n",
       "      <td>2</td>\n",
       "      <td>0.565720</td>\n",
       "      <td>1074</td>\n",
       "    </tr>\n",
       "    <tr>\n",
       "      <th>653</th>\n",
       "      <td>3506c7729</td>\n",
       "      <td>NaN</td>\n",
       "      <td>NaN</td>\n",
       "      <td>Depression is a mental illness that impacts mi...</td>\n",
       "      <td>2</td>\n",
       "      <td>0.596571</td>\n",
       "      <td>888</td>\n",
       "    </tr>\n",
       "    <tr>\n",
       "      <th>661</th>\n",
       "      <td>82a6d3579</td>\n",
       "      <td>https://kids.frontiersin.org/article/10.3389/f...</td>\n",
       "      <td>CC BY 4.0</td>\n",
       "      <td>Counting rhinos is hard work! Think of what wo...</td>\n",
       "      <td>2</td>\n",
       "      <td>0.648474</td>\n",
       "      <td>979</td>\n",
       "    </tr>\n",
       "    <tr>\n",
       "      <th>676</th>\n",
       "      <td>551e0fc0b</td>\n",
       "      <td>https://www.commonlit.org/texts/sweet-difficul...</td>\n",
       "      <td>CC BY-NC-SA 2.0</td>\n",
       "      <td>\"Hey, I'm Ashley,\" said a dark-haired girl at ...</td>\n",
       "      <td>2</td>\n",
       "      <td>0.553791</td>\n",
       "      <td>1126</td>\n",
       "    </tr>\n",
       "    <tr>\n",
       "      <th>692</th>\n",
       "      <td>d6764322c</td>\n",
       "      <td>NaN</td>\n",
       "      <td>NaN</td>\n",
       "      <td>As an adult, I might learn new actions by taki...</td>\n",
       "      <td>2</td>\n",
       "      <td>0.549119</td>\n",
       "      <td>751</td>\n",
       "    </tr>\n",
       "    <tr>\n",
       "      <th>698</th>\n",
       "      <td>f234be2d1</td>\n",
       "      <td>https://kids.frontiersin.org/article/10.3389/f...</td>\n",
       "      <td>CC BY 4.0</td>\n",
       "      <td>Imagine you are walking in a park full of brig...</td>\n",
       "      <td>2</td>\n",
       "      <td>0.560098</td>\n",
       "      <td>1095</td>\n",
       "    </tr>\n",
       "    <tr>\n",
       "      <th>706</th>\n",
       "      <td>6923a71bd</td>\n",
       "      <td>NaN</td>\n",
       "      <td>NaN</td>\n",
       "      <td>One of the many advantages of using zebrafish ...</td>\n",
       "      <td>2</td>\n",
       "      <td>0.581429</td>\n",
       "      <td>977</td>\n",
       "    </tr>\n",
       "    <tr>\n",
       "      <th>756</th>\n",
       "      <td>bb1550abb</td>\n",
       "      <td>https://www.africanstorybook.org/#</td>\n",
       "      <td>CC BY 4.0</td>\n",
       "      <td>Abula stole his mother's money to buy sweets. ...</td>\n",
       "      <td>2</td>\n",
       "      <td>0.540924</td>\n",
       "      <td>758</td>\n",
       "    </tr>\n",
       "    <tr>\n",
       "      <th>790</th>\n",
       "      <td>6c2e05a3e</td>\n",
       "      <td>https://kids.frontiersin.org/article/10.3389/f...</td>\n",
       "      <td>CC BY 4.0</td>\n",
       "      <td>Trees are a lot like people: they experience s...</td>\n",
       "      <td>2</td>\n",
       "      <td>0.575831</td>\n",
       "      <td>809</td>\n",
       "    </tr>\n",
       "    <tr>\n",
       "      <th>808</th>\n",
       "      <td>8f35441e3</td>\n",
       "      <td>https://www.africanstorybook.org/#</td>\n",
       "      <td>CC BY 4.0</td>\n",
       "      <td>Every day, Emeka's father took him to school i...</td>\n",
       "      <td>2</td>\n",
       "      <td>0.624776</td>\n",
       "      <td>968</td>\n",
       "    </tr>\n",
       "    <tr>\n",
       "      <th>814</th>\n",
       "      <td>cd5279677</td>\n",
       "      <td>https://simple.wikipedia.org/wiki/Podcasting</td>\n",
       "      <td>CC BY-SA 3.0 and GFDL</td>\n",
       "      <td>Podcasting is a way to share information as di...</td>\n",
       "      <td>2</td>\n",
       "      <td>0.531964</td>\n",
       "      <td>852</td>\n",
       "    </tr>\n",
       "    <tr>\n",
       "      <th>837</th>\n",
       "      <td>0eef376fd</td>\n",
       "      <td>https://www.africanstorybook.org/</td>\n",
       "      <td>CC BY 4.0</td>\n",
       "      <td>There lived a beautiful girl. One day she was ...</td>\n",
       "      <td>2</td>\n",
       "      <td>0.546869</td>\n",
       "      <td>903</td>\n",
       "    </tr>\n",
       "    <tr>\n",
       "      <th>839</th>\n",
       "      <td>7a8c7b9af</td>\n",
       "      <td>https://www.africanstorybook.org/</td>\n",
       "      <td>CC BY 4.0</td>\n",
       "      <td>A long time ago, deep in the forests, King Leo...</td>\n",
       "      <td>2</td>\n",
       "      <td>0.504840</td>\n",
       "      <td>1009</td>\n",
       "    </tr>\n",
       "    <tr>\n",
       "      <th>864</th>\n",
       "      <td>f7c409bed</td>\n",
       "      <td>https://kids.frontiersin.org/article/10.3389/f...</td>\n",
       "      <td>CC BY 4.0</td>\n",
       "      <td>Try this simple exercise: go to your music lib...</td>\n",
       "      <td>2</td>\n",
       "      <td>0.520132</td>\n",
       "      <td>961</td>\n",
       "    </tr>\n",
       "    <tr>\n",
       "      <th>874</th>\n",
       "      <td>f68bdf0ac</td>\n",
       "      <td>https://kids.frontiersin.org/article/10.3389/f...</td>\n",
       "      <td>CC BY 4.0</td>\n",
       "      <td>Imagine this: you are sitting in a classroom o...</td>\n",
       "      <td>2</td>\n",
       "      <td>0.554363</td>\n",
       "      <td>1062</td>\n",
       "    </tr>\n",
       "    <tr>\n",
       "      <th>979</th>\n",
       "      <td>124782d8d</td>\n",
       "      <td>https://www.digitallibrary.io/en/books/details...</td>\n",
       "      <td>CC BY 4.0</td>\n",
       "      <td>The tortoise moved quite slowly. \\n She was ne...</td>\n",
       "      <td>2</td>\n",
       "      <td>0.548490</td>\n",
       "      <td>767</td>\n",
       "    </tr>\n",
       "    <tr>\n",
       "      <th>981</th>\n",
       "      <td>849971671</td>\n",
       "      <td>https://www.africanstorybook.org/</td>\n",
       "      <td>CC BY 4.0</td>\n",
       "      <td>For her last birthday, Sisanda had a special t...</td>\n",
       "      <td>2</td>\n",
       "      <td>0.596349</td>\n",
       "      <td>896</td>\n",
       "    </tr>\n",
       "    <tr>\n",
       "      <th>989</th>\n",
       "      <td>501927637</td>\n",
       "      <td>https://www.africanstorybook.org/#</td>\n",
       "      <td>CC BY 4.0</td>\n",
       "      <td>The city bus was almost full, but more people ...</td>\n",
       "      <td>2</td>\n",
       "      <td>0.553093</td>\n",
       "      <td>936</td>\n",
       "    </tr>\n",
       "    <tr>\n",
       "      <th>1006</th>\n",
       "      <td>9.36E+194</td>\n",
       "      <td>https://www.africanstorybook.org/#</td>\n",
       "      <td>CC BY 4.0</td>\n",
       "      <td>Elephant lived in a house on one side of the p...</td>\n",
       "      <td>2</td>\n",
       "      <td>0.608948</td>\n",
       "      <td>832</td>\n",
       "    </tr>\n",
       "    <tr>\n",
       "      <th>1013</th>\n",
       "      <td>c3086ffed</td>\n",
       "      <td>https://www.africanstorybook.org/</td>\n",
       "      <td>CC BY 4.0</td>\n",
       "      <td>A baby elephant was born. She was very curious...</td>\n",
       "      <td>2</td>\n",
       "      <td>0.548880</td>\n",
       "      <td>1123</td>\n",
       "    </tr>\n",
       "    <tr>\n",
       "      <th>1014</th>\n",
       "      <td>7a1d484be</td>\n",
       "      <td>https://www.africanstorybook.org/</td>\n",
       "      <td>CC BY 4.0</td>\n",
       "      <td>More people came to the bus stop just before 9...</td>\n",
       "      <td>2</td>\n",
       "      <td>0.606997</td>\n",
       "      <td>805</td>\n",
       "    </tr>\n",
       "    <tr>\n",
       "      <th>1025</th>\n",
       "      <td>e291215df</td>\n",
       "      <td>https://www.africanstorybook.org/</td>\n",
       "      <td>CC BY 3.0</td>\n",
       "      <td>The coach put his hands on his hips. \"At this ...</td>\n",
       "      <td>2</td>\n",
       "      <td>0.571476</td>\n",
       "      <td>789</td>\n",
       "    </tr>\n",
       "    <tr>\n",
       "      <th>1035</th>\n",
       "      <td>634c43abf</td>\n",
       "      <td>https://www.africanstorybook.org/</td>\n",
       "      <td>CC BY 4.0</td>\n",
       "      <td>When she was a child, Bassie was very shy. She...</td>\n",
       "      <td>2</td>\n",
       "      <td>0.551830</td>\n",
       "      <td>1051</td>\n",
       "    </tr>\n",
       "    <tr>\n",
       "      <th>1058</th>\n",
       "      <td>e50e4b781</td>\n",
       "      <td>https://www.africanstorybook.org/</td>\n",
       "      <td>CC BY 4.0</td>\n",
       "      <td>Once upon a time, Lion was the strongest and m...</td>\n",
       "      <td>2</td>\n",
       "      <td>0.574968</td>\n",
       "      <td>1049</td>\n",
       "    </tr>\n",
       "    <tr>\n",
       "      <th>1059</th>\n",
       "      <td>0ffa97fdb</td>\n",
       "      <td>https://www.africanstorybook.org/</td>\n",
       "      <td>CC BY 4.0</td>\n",
       "      <td>Once upon a time, there lived a man who had pl...</td>\n",
       "      <td>2</td>\n",
       "      <td>0.552842</td>\n",
       "      <td>989</td>\n",
       "    </tr>\n",
       "    <tr>\n",
       "      <th>1066</th>\n",
       "      <td>16913371</td>\n",
       "      <td>https://www.africanstorybook.org/</td>\n",
       "      <td>CC BY 4.0</td>\n",
       "      <td>Grandma's garden was wonderful. It was full of...</td>\n",
       "      <td>2</td>\n",
       "      <td>0.599600</td>\n",
       "      <td>1074</td>\n",
       "    </tr>\n",
       "    <tr>\n",
       "      <th>1096</th>\n",
       "      <td>4ac629fc1</td>\n",
       "      <td>NaN</td>\n",
       "      <td>NaN</td>\n",
       "      <td>I was lucky � I found what I loved to do early...</td>\n",
       "      <td>2</td>\n",
       "      <td>0.523142</td>\n",
       "      <td>837</td>\n",
       "    </tr>\n",
       "    <tr>\n",
       "      <th>1127</th>\n",
       "      <td>46599d29c</td>\n",
       "      <td>NaN</td>\n",
       "      <td>NaN</td>\n",
       "      <td>The stockings hung by the chimney, and the tal...</td>\n",
       "      <td>2</td>\n",
       "      <td>0.560820</td>\n",
       "      <td>1009</td>\n",
       "    </tr>\n",
       "    <tr>\n",
       "      <th>1593</th>\n",
       "      <td>fdbacf1d4</td>\n",
       "      <td>NaN</td>\n",
       "      <td>NaN</td>\n",
       "      <td>Rosy went on her way, and forgot all about it....</td>\n",
       "      <td>2</td>\n",
       "      <td>0.643264</td>\n",
       "      <td>928</td>\n",
       "    </tr>\n",
       "    <tr>\n",
       "      <th>1786</th>\n",
       "      <td>a5d622faf</td>\n",
       "      <td>NaN</td>\n",
       "      <td>NaN</td>\n",
       "      <td>I was a careless young cub, and one day, when ...</td>\n",
       "      <td>2</td>\n",
       "      <td>0.594943</td>\n",
       "      <td>844</td>\n",
       "    </tr>\n",
       "    <tr>\n",
       "      <th>1792</th>\n",
       "      <td>c94fad68a</td>\n",
       "      <td>NaN</td>\n",
       "      <td>NaN</td>\n",
       "      <td>One day Susan had two little friends visit her...</td>\n",
       "      <td>2</td>\n",
       "      <td>0.619811</td>\n",
       "      <td>967</td>\n",
       "    </tr>\n",
       "    <tr>\n",
       "      <th>1802</th>\n",
       "      <td>ac8a70925</td>\n",
       "      <td>NaN</td>\n",
       "      <td>NaN</td>\n",
       "      <td>One day Lisa was alone in the house. Her siste...</td>\n",
       "      <td>2</td>\n",
       "      <td>0.527710</td>\n",
       "      <td>752</td>\n",
       "    </tr>\n",
       "    <tr>\n",
       "      <th>1819</th>\n",
       "      <td>09b161e42</td>\n",
       "      <td>NaN</td>\n",
       "      <td>NaN</td>\n",
       "      <td>One day, when Sam was playing in the yard, his...</td>\n",
       "      <td>2</td>\n",
       "      <td>0.601547</td>\n",
       "      <td>913</td>\n",
       "    </tr>\n",
       "    <tr>\n",
       "      <th>1888</th>\n",
       "      <td>388c83bfb</td>\n",
       "      <td>NaN</td>\n",
       "      <td>NaN</td>\n",
       "      <td>Annie could but wonder of what use a pipe woul...</td>\n",
       "      <td>2</td>\n",
       "      <td>0.535500</td>\n",
       "      <td>759</td>\n",
       "    </tr>\n",
       "    <tr>\n",
       "      <th>1913</th>\n",
       "      <td>76f92b721</td>\n",
       "      <td>NaN</td>\n",
       "      <td>NaN</td>\n",
       "      <td>The biggest desert in the world is in Africa, ...</td>\n",
       "      <td>2</td>\n",
       "      <td>0.553751</td>\n",
       "      <td>877</td>\n",
       "    </tr>\n",
       "    <tr>\n",
       "      <th>1916</th>\n",
       "      <td>21947ffde</td>\n",
       "      <td>NaN</td>\n",
       "      <td>NaN</td>\n",
       "      <td>There were once three little foxes who lived i...</td>\n",
       "      <td>2</td>\n",
       "      <td>0.584608</td>\n",
       "      <td>936</td>\n",
       "    </tr>\n",
       "    <tr>\n",
       "      <th>1938</th>\n",
       "      <td>c94355a18</td>\n",
       "      <td>NaN</td>\n",
       "      <td>NaN</td>\n",
       "      <td>On a dry pleasant day, last autumn, I saw her ...</td>\n",
       "      <td>2</td>\n",
       "      <td>0.611269</td>\n",
       "      <td>682</td>\n",
       "    </tr>\n",
       "    <tr>\n",
       "      <th>1988</th>\n",
       "      <td>c8c8807f5</td>\n",
       "      <td>NaN</td>\n",
       "      <td>NaN</td>\n",
       "      <td>He heard his mother calling him, but took no n...</td>\n",
       "      <td>2</td>\n",
       "      <td>0.552930</td>\n",
       "      <td>826</td>\n",
       "    </tr>\n",
       "    <tr>\n",
       "      <th>2004</th>\n",
       "      <td>e4b2adc8c</td>\n",
       "      <td>NaN</td>\n",
       "      <td>NaN</td>\n",
       "      <td>When Edward was eight years old, his mother to...</td>\n",
       "      <td>2</td>\n",
       "      <td>0.553198</td>\n",
       "      <td>955</td>\n",
       "    </tr>\n",
       "    <tr>\n",
       "      <th>2034</th>\n",
       "      <td>b6d7f625e</td>\n",
       "      <td>NaN</td>\n",
       "      <td>NaN</td>\n",
       "      <td>This year, on Thanksgiving Day, none of our fr...</td>\n",
       "      <td>2</td>\n",
       "      <td>0.579615</td>\n",
       "      <td>908</td>\n",
       "    </tr>\n",
       "    <tr>\n",
       "      <th>2046</th>\n",
       "      <td>80143e757</td>\n",
       "      <td>NaN</td>\n",
       "      <td>NaN</td>\n",
       "      <td>One day a stray dog came to the house; and Joh...</td>\n",
       "      <td>2</td>\n",
       "      <td>0.552815</td>\n",
       "      <td>861</td>\n",
       "    </tr>\n",
       "    <tr>\n",
       "      <th>2216</th>\n",
       "      <td>18a5ee5c5</td>\n",
       "      <td>NaN</td>\n",
       "      <td>NaN</td>\n",
       "      <td>Ludwig was only four years old when he began t...</td>\n",
       "      <td>2</td>\n",
       "      <td>0.533859</td>\n",
       "      <td>799</td>\n",
       "    </tr>\n",
       "    <tr>\n",
       "      <th>2475</th>\n",
       "      <td>96f6084b2</td>\n",
       "      <td>NaN</td>\n",
       "      <td>NaN</td>\n",
       "      <td>There was an old man living in those days who ...</td>\n",
       "      <td>2</td>\n",
       "      <td>0.531216</td>\n",
       "      <td>897</td>\n",
       "    </tr>\n",
       "    <tr>\n",
       "      <th>2572</th>\n",
       "      <td>9cdf5fe75</td>\n",
       "      <td>NaN</td>\n",
       "      <td>NaN</td>\n",
       "      <td>The next day Jason went to the king and said, ...</td>\n",
       "      <td>2</td>\n",
       "      <td>0.545943</td>\n",
       "      <td>808</td>\n",
       "    </tr>\n",
       "    <tr>\n",
       "      <th>2589</th>\n",
       "      <td>2e466993d</td>\n",
       "      <td>NaN</td>\n",
       "      <td>NaN</td>\n",
       "      <td>The little pig squealed and squealed, and the ...</td>\n",
       "      <td>2</td>\n",
       "      <td>0.515234</td>\n",
       "      <td>860</td>\n",
       "    </tr>\n",
       "    <tr>\n",
       "      <th>2593</th>\n",
       "      <td>c14f4a3c3</td>\n",
       "      <td>NaN</td>\n",
       "      <td>NaN</td>\n",
       "      <td>Once upon a time there were three bears who li...</td>\n",
       "      <td>2</td>\n",
       "      <td>0.623120</td>\n",
       "      <td>805</td>\n",
       "    </tr>\n",
       "    <tr>\n",
       "      <th>2602</th>\n",
       "      <td>62dceff46</td>\n",
       "      <td>NaN</td>\n",
       "      <td>NaN</td>\n",
       "      <td>One day her mother said to her: \"Come, Red Rid...</td>\n",
       "      <td>2</td>\n",
       "      <td>0.607107</td>\n",
       "      <td>845</td>\n",
       "    </tr>\n",
       "    <tr>\n",
       "      <th>2823</th>\n",
       "      <td>7005971ef</td>\n",
       "      <td>https://en.wikibooks.org/wiki/Wikijunior:Human...</td>\n",
       "      <td>CC BY-SA 3.0</td>\n",
       "      <td>At the top of the stomach is a tube where food...</td>\n",
       "      <td>2</td>\n",
       "      <td>0.539303</td>\n",
       "      <td>770</td>\n",
       "    </tr>\n",
       "    <tr>\n",
       "      <th>2826</th>\n",
       "      <td>b8733aeb1</td>\n",
       "      <td>http://static.ehe.osu.edu/sites/beyond/penguin...</td>\n",
       "      <td>CC BY-SA 3.0</td>\n",
       "      <td>Have you ever gone for a walk in the woods? If...</td>\n",
       "      <td>2</td>\n",
       "      <td>0.535046</td>\n",
       "      <td>1038</td>\n",
       "    </tr>\n",
       "    <tr>\n",
       "      <th>2829</th>\n",
       "      <td>25ca8f498</td>\n",
       "      <td>https://sites.ehe.osu.edu/beyondpenguins/files...</td>\n",
       "      <td>CC BY-SA 3.0</td>\n",
       "      <td>When you think of dinosaurs and where they liv...</td>\n",
       "      <td>2</td>\n",
       "      <td>0.646900</td>\n",
       "      <td>901</td>\n",
       "    </tr>\n",
       "  </tbody>\n",
       "</table>\n",
       "</div>"
      ],
      "text/plain": [
       "             id                                          url_legal  \\\n",
       "65    3411fc5bb                                                NaN   \n",
       "240   09c41e31e                                                NaN   \n",
       "271   cef7dd81c                  https://www.africanstorybook.org/   \n",
       "508   7364963a0                  https://www.africanstorybook.org/   \n",
       "564   bae209b89                  https://www.africanstorybook.org/   \n",
       "584   663afa987   https://simple.wikipedia.org/wiki/Special_effect   \n",
       "637   7a0474321        https://www.commonlit.org/texts/laura-s-key   \n",
       "653   3506c7729                                                NaN   \n",
       "661   82a6d3579  https://kids.frontiersin.org/article/10.3389/f...   \n",
       "676   551e0fc0b  https://www.commonlit.org/texts/sweet-difficul...   \n",
       "692   d6764322c                                                NaN   \n",
       "698   f234be2d1  https://kids.frontiersin.org/article/10.3389/f...   \n",
       "706   6923a71bd                                                NaN   \n",
       "756   bb1550abb                 https://www.africanstorybook.org/#   \n",
       "790   6c2e05a3e  https://kids.frontiersin.org/article/10.3389/f...   \n",
       "808   8f35441e3                 https://www.africanstorybook.org/#   \n",
       "814   cd5279677       https://simple.wikipedia.org/wiki/Podcasting   \n",
       "837   0eef376fd                  https://www.africanstorybook.org/   \n",
       "839   7a8c7b9af                  https://www.africanstorybook.org/   \n",
       "864   f7c409bed  https://kids.frontiersin.org/article/10.3389/f...   \n",
       "874   f68bdf0ac  https://kids.frontiersin.org/article/10.3389/f...   \n",
       "979   124782d8d  https://www.digitallibrary.io/en/books/details...   \n",
       "981   849971671                  https://www.africanstorybook.org/   \n",
       "989   501927637                 https://www.africanstorybook.org/#   \n",
       "1006  9.36E+194                 https://www.africanstorybook.org/#   \n",
       "1013  c3086ffed                  https://www.africanstorybook.org/   \n",
       "1014  7a1d484be                  https://www.africanstorybook.org/   \n",
       "1025  e291215df                  https://www.africanstorybook.org/   \n",
       "1035  634c43abf                  https://www.africanstorybook.org/   \n",
       "1058  e50e4b781                  https://www.africanstorybook.org/   \n",
       "1059  0ffa97fdb                  https://www.africanstorybook.org/   \n",
       "1066   16913371                  https://www.africanstorybook.org/   \n",
       "1096  4ac629fc1                                                NaN   \n",
       "1127  46599d29c                                                NaN   \n",
       "1593  fdbacf1d4                                                NaN   \n",
       "1786  a5d622faf                                                NaN   \n",
       "1792  c94fad68a                                                NaN   \n",
       "1802  ac8a70925                                                NaN   \n",
       "1819  09b161e42                                                NaN   \n",
       "1888  388c83bfb                                                NaN   \n",
       "1913  76f92b721                                                NaN   \n",
       "1916  21947ffde                                                NaN   \n",
       "1938  c94355a18                                                NaN   \n",
       "1988  c8c8807f5                                                NaN   \n",
       "2004  e4b2adc8c                                                NaN   \n",
       "2034  b6d7f625e                                                NaN   \n",
       "2046  80143e757                                                NaN   \n",
       "2216  18a5ee5c5                                                NaN   \n",
       "2475  96f6084b2                                                NaN   \n",
       "2572  9cdf5fe75                                                NaN   \n",
       "2589  2e466993d                                                NaN   \n",
       "2593  c14f4a3c3                                                NaN   \n",
       "2602  62dceff46                                                NaN   \n",
       "2823  7005971ef  https://en.wikibooks.org/wiki/Wikijunior:Human...   \n",
       "2826  b8733aeb1  http://static.ehe.osu.edu/sites/beyond/penguin...   \n",
       "2829  25ca8f498  https://sites.ehe.osu.edu/beyondpenguins/files...   \n",
       "\n",
       "                    license  \\\n",
       "65                      NaN   \n",
       "240                     NaN   \n",
       "271               CC BY 4.0   \n",
       "508               CC BY 4.0   \n",
       "564               CC BY 4.0   \n",
       "584   CC BY-SA 3.0 and GFDL   \n",
       "637         CC BY-NC-SA 2.0   \n",
       "653                     NaN   \n",
       "661               CC BY 4.0   \n",
       "676         CC BY-NC-SA 2.0   \n",
       "692                     NaN   \n",
       "698               CC BY 4.0   \n",
       "706                     NaN   \n",
       "756               CC BY 4.0   \n",
       "790               CC BY 4.0   \n",
       "808               CC BY 4.0   \n",
       "814   CC BY-SA 3.0 and GFDL   \n",
       "837               CC BY 4.0   \n",
       "839               CC BY 4.0   \n",
       "864               CC BY 4.0   \n",
       "874               CC BY 4.0   \n",
       "979               CC BY 4.0   \n",
       "981               CC BY 4.0   \n",
       "989               CC BY 4.0   \n",
       "1006              CC BY 4.0   \n",
       "1013              CC BY 4.0   \n",
       "1014              CC BY 4.0   \n",
       "1025              CC BY 3.0   \n",
       "1035              CC BY 4.0   \n",
       "1058              CC BY 4.0   \n",
       "1059              CC BY 4.0   \n",
       "1066              CC BY 4.0   \n",
       "1096                    NaN   \n",
       "1127                    NaN   \n",
       "1593                    NaN   \n",
       "1786                    NaN   \n",
       "1792                    NaN   \n",
       "1802                    NaN   \n",
       "1819                    NaN   \n",
       "1888                    NaN   \n",
       "1913                    NaN   \n",
       "1916                    NaN   \n",
       "1938                    NaN   \n",
       "1988                    NaN   \n",
       "2004                    NaN   \n",
       "2034                    NaN   \n",
       "2046                    NaN   \n",
       "2216                    NaN   \n",
       "2475                    NaN   \n",
       "2572                    NaN   \n",
       "2589                    NaN   \n",
       "2593                    NaN   \n",
       "2602                    NaN   \n",
       "2823           CC BY-SA 3.0   \n",
       "2826           CC BY-SA 3.0   \n",
       "2829           CC BY-SA 3.0   \n",
       "\n",
       "                                                excerpt  target  \\\n",
       "65    The big brown automobile gave three honks as i...       2   \n",
       "240   There was once a young man who spent all his t...       2   \n",
       "271   When going to the beach, find out which ones h...       2   \n",
       "508   As they were leaving the shop, Zethu saw an ex...       2   \n",
       "564   After a night of heavy rain, a group of friend...       2   \n",
       "584   Special effects is a term for the things used ...       2   \n",
       "637   Rubbing sleep from her eyes, Laura stumbled ou...       2   \n",
       "653   Depression is a mental illness that impacts mi...       2   \n",
       "661   Counting rhinos is hard work! Think of what wo...       2   \n",
       "676   \"Hey, I'm Ashley,\" said a dark-haired girl at ...       2   \n",
       "692   As an adult, I might learn new actions by taki...       2   \n",
       "698   Imagine you are walking in a park full of brig...       2   \n",
       "706   One of the many advantages of using zebrafish ...       2   \n",
       "756   Abula stole his mother's money to buy sweets. ...       2   \n",
       "790   Trees are a lot like people: they experience s...       2   \n",
       "808   Every day, Emeka's father took him to school i...       2   \n",
       "814   Podcasting is a way to share information as di...       2   \n",
       "837   There lived a beautiful girl. One day she was ...       2   \n",
       "839   A long time ago, deep in the forests, King Leo...       2   \n",
       "864   Try this simple exercise: go to your music lib...       2   \n",
       "874   Imagine this: you are sitting in a classroom o...       2   \n",
       "979   The tortoise moved quite slowly. \\n She was ne...       2   \n",
       "981   For her last birthday, Sisanda had a special t...       2   \n",
       "989   The city bus was almost full, but more people ...       2   \n",
       "1006  Elephant lived in a house on one side of the p...       2   \n",
       "1013  A baby elephant was born. She was very curious...       2   \n",
       "1014  More people came to the bus stop just before 9...       2   \n",
       "1025  The coach put his hands on his hips. \"At this ...       2   \n",
       "1035  When she was a child, Bassie was very shy. She...       2   \n",
       "1058  Once upon a time, Lion was the strongest and m...       2   \n",
       "1059  Once upon a time, there lived a man who had pl...       2   \n",
       "1066  Grandma's garden was wonderful. It was full of...       2   \n",
       "1096  I was lucky � I found what I loved to do early...       2   \n",
       "1127  The stockings hung by the chimney, and the tal...       2   \n",
       "1593  Rosy went on her way, and forgot all about it....       2   \n",
       "1786  I was a careless young cub, and one day, when ...       2   \n",
       "1792  One day Susan had two little friends visit her...       2   \n",
       "1802  One day Lisa was alone in the house. Her siste...       2   \n",
       "1819  One day, when Sam was playing in the yard, his...       2   \n",
       "1888  Annie could but wonder of what use a pipe woul...       2   \n",
       "1913  The biggest desert in the world is in Africa, ...       2   \n",
       "1916  There were once three little foxes who lived i...       2   \n",
       "1938  On a dry pleasant day, last autumn, I saw her ...       2   \n",
       "1988  He heard his mother calling him, but took no n...       2   \n",
       "2004  When Edward was eight years old, his mother to...       2   \n",
       "2034  This year, on Thanksgiving Day, none of our fr...       2   \n",
       "2046  One day a stray dog came to the house; and Joh...       2   \n",
       "2216  Ludwig was only four years old when he began t...       2   \n",
       "2475  There was an old man living in those days who ...       2   \n",
       "2572  The next day Jason went to the king and said, ...       2   \n",
       "2589  The little pig squealed and squealed, and the ...       2   \n",
       "2593  Once upon a time there were three bears who li...       2   \n",
       "2602  One day her mother said to her: \"Come, Red Rid...       2   \n",
       "2823  At the top of the stomach is a tube where food...       2   \n",
       "2826  Have you ever gone for a walk in the woods? If...       2   \n",
       "2829  When you think of dinosaurs and where they liv...       2   \n",
       "\n",
       "      standard_error  length  \n",
       "65          0.551908     852  \n",
       "240         0.639018     832  \n",
       "271         0.591005     889  \n",
       "508         0.548124     825  \n",
       "564         0.615058    1084  \n",
       "584         0.554144    1109  \n",
       "637         0.565720    1074  \n",
       "653         0.596571     888  \n",
       "661         0.648474     979  \n",
       "676         0.553791    1126  \n",
       "692         0.549119     751  \n",
       "698         0.560098    1095  \n",
       "706         0.581429     977  \n",
       "756         0.540924     758  \n",
       "790         0.575831     809  \n",
       "808         0.624776     968  \n",
       "814         0.531964     852  \n",
       "837         0.546869     903  \n",
       "839         0.504840    1009  \n",
       "864         0.520132     961  \n",
       "874         0.554363    1062  \n",
       "979         0.548490     767  \n",
       "981         0.596349     896  \n",
       "989         0.553093     936  \n",
       "1006        0.608948     832  \n",
       "1013        0.548880    1123  \n",
       "1014        0.606997     805  \n",
       "1025        0.571476     789  \n",
       "1035        0.551830    1051  \n",
       "1058        0.574968    1049  \n",
       "1059        0.552842     989  \n",
       "1066        0.599600    1074  \n",
       "1096        0.523142     837  \n",
       "1127        0.560820    1009  \n",
       "1593        0.643264     928  \n",
       "1786        0.594943     844  \n",
       "1792        0.619811     967  \n",
       "1802        0.527710     752  \n",
       "1819        0.601547     913  \n",
       "1888        0.535500     759  \n",
       "1913        0.553751     877  \n",
       "1916        0.584608     936  \n",
       "1938        0.611269     682  \n",
       "1988        0.552930     826  \n",
       "2004        0.553198     955  \n",
       "2034        0.579615     908  \n",
       "2046        0.552815     861  \n",
       "2216        0.533859     799  \n",
       "2475        0.531216     897  \n",
       "2572        0.545943     808  \n",
       "2589        0.515234     860  \n",
       "2593        0.623120     805  \n",
       "2602        0.607107     845  \n",
       "2823        0.539303     770  \n",
       "2826        0.535046    1038  \n",
       "2829        0.646900     901  "
      ]
     },
     "execution_count": 125,
     "metadata": {},
     "output_type": "execute_result"
    }
   ],
   "source": [
    "cls7"
   ]
  },
  {
   "cell_type": "code",
   "execution_count": 126,
   "metadata": {},
   "outputs": [
    {
     "data": {
      "text/plain": [
       "<matplotlib.axes._subplots.AxesSubplot at 0x2a8e5640070>"
      ]
     },
     "execution_count": 126,
     "metadata": {},
     "output_type": "execute_result"
    },
    {
     "data": {
      "image/png": "[encoded data removed]",
      "text/plain": [
       "<Figure size 432x288 with 1 Axes>"
      ]
     },
     "metadata": {
      "needs_background": "light"
     },
     "output_type": "display_data"
    }
   ],
   "source": [
    "cls1['length'].plot(bins=60, kind='hist')\n",
    "cls2['length'].plot(bins=60, kind='hist')\n",
    "cls3['length'].plot(bins=60, kind='hist')\n",
    "cls4['length'].plot(bins=60, kind='hist')\n",
    "cls5['length'].plot(bins=60, kind='hist')\n",
    "cls6['length'].plot(bins=60, kind='hist')\n",
    "cls7['length'].plot(bins=60, kind='hist')"
   ]
  },
  {
   "cell_type": "code",
   "execution_count": 127,
   "metadata": {},
   "outputs": [
    {
     "name": "stdout",
     "output_type": "stream",
     "text": [
      "cls1 percentage = 2.646436132674665 %\n",
      "cls2 percentage = 14.855328158080452 %\n",
      "cls3 percentage = 29.4636556104446 %\n",
      "cls4 percentage = 29.4636556104446 %\n",
      "cls5 percentage = 26.182074805928018 %\n",
      "cls6 percentage = 5.892731122088921 %\n",
      "cls7 percentage = 1.9760056457304165 %\n"
     ]
    }
   ],
   "source": [
    "print( 'cls1 percentage =', (len(cls1) / len(train) )*100,\"%\")\n",
    "print( 'cls2 percentage =', (len(cls2) / len(train) )*100,\"%\")\n",
    "print( 'cls3 percentage =', (len(cls3) / len(train) )*100,\"%\")\n",
    "print( 'cls4 percentage =', (len(cls4) / len(train) )*100,\"%\")\n",
    "print( 'cls5 percentage =', (len(cls5) / len(train) )*100,\"%\")\n",
    "print( 'cls6 percentage =', (len(cls6) / len(train) )*100,\"%\")\n",
    "print( 'cls7 percentage =', (len(cls7) / len(train) )*100,\"%\")"
   ]
  },
  {
   "cell_type": "code",
   "execution_count": 128,
   "metadata": {},
   "outputs": [
    {
     "data": {
      "text/plain": [
       "<matplotlib.axes._subplots.AxesSubplot at 0x2a8ad3f6fd0>"
      ]
     },
     "execution_count": 128,
     "metadata": {},
     "output_type": "execute_result"
    },
    {
     "data": {
      "image/png": "[encoded data removed]",
      "text/plain": [
       "<Figure size 432x288 with 1 Axes>"
      ]
     },
     "metadata": {
      "needs_background": "light"
     },
     "output_type": "display_data"
    }
   ],
   "source": [
    "sns.countplot(train['target'], label = \"Count\") "
   ]
  },
  {
   "cell_type": "code",
   "execution_count": 129,
   "metadata": {},
   "outputs": [],
   "source": [
    "#STEP #3: CREATE TESTING AND TRAINING DATASET/DATA CLEANING STEP 3.1 EXERCISE: REMOVE PUNCTUATION"
   ]
  },
  {
   "cell_type": "code",
   "execution_count": 130,
   "metadata": {},
   "outputs": [
    {
     "data": {
      "text/plain": [
       "'!\"#$%&\\'()*+,-./:;<=>?@[\\\\]^_`{|}~'"
      ]
     },
     "execution_count": 130,
     "metadata": {},
     "output_type": "execute_result"
    }
   ],
   "source": [
    "import string\n",
    "string.punctuation"
   ]
  },
  {
   "cell_type": "code",
   "execution_count": 131,
   "metadata": {},
   "outputs": [],
   "source": [
    "Test = 'Hello Mr. Future, I am so happy to be learning AI now!!'"
   ]
  },
  {
   "cell_type": "code",
   "execution_count": 132,
   "metadata": {},
   "outputs": [
    {
     "data": {
      "text/plain": [
       "['H',\n",
       " 'e',\n",
       " 'l',\n",
       " 'l',\n",
       " 'o',\n",
       " ' ',\n",
       " 'M',\n",
       " 'r',\n",
       " ' ',\n",
       " 'F',\n",
       " 'u',\n",
       " 't',\n",
       " 'u',\n",
       " 'r',\n",
       " 'e',\n",
       " ' ',\n",
       " 'I',\n",
       " ' ',\n",
       " 'a',\n",
       " 'm',\n",
       " ' ',\n",
       " 's',\n",
       " 'o',\n",
       " ' ',\n",
       " 'h',\n",
       " 'a',\n",
       " 'p',\n",
       " 'p',\n",
       " 'y',\n",
       " ' ',\n",
       " 't',\n",
       " 'o',\n",
       " ' ',\n",
       " 'b',\n",
       " 'e',\n",
       " ' ',\n",
       " 'l',\n",
       " 'e',\n",
       " 'a',\n",
       " 'r',\n",
       " 'n',\n",
       " 'i',\n",
       " 'n',\n",
       " 'g',\n",
       " ' ',\n",
       " 'A',\n",
       " 'I',\n",
       " ' ',\n",
       " 'n',\n",
       " 'o',\n",
       " 'w']"
      ]
     },
     "execution_count": 132,
     "metadata": {},
     "output_type": "execute_result"
    }
   ],
   "source": [
    "Test_punc_removed = [char for char in Test if char not in string.punctuation]\n",
    "Test_punc_removed"
   ]
  },
  {
   "cell_type": "code",
   "execution_count": 133,
   "metadata": {},
   "outputs": [
    {
     "data": {
      "text/plain": [
       "'Hello Mr Future I am so happy to be learning AI now'"
      ]
     },
     "execution_count": 133,
     "metadata": {},
     "output_type": "execute_result"
    }
   ],
   "source": [
    "# Join the characters again to form the string.\n",
    "Test_punc_removed_join = ''.join(Test_punc_removed)\n",
    "Test_punc_removed_join"
   ]
  },
  {
   "cell_type": "code",
   "execution_count": 134,
   "metadata": {},
   "outputs": [],
   "source": [
    "#STEP 3.2 EXERCISE: REMOVE STOPWORDS"
   ]
  },
  {
   "cell_type": "code",
   "execution_count": 135,
   "metadata": {},
   "outputs": [
    {
     "name": "stdout",
     "output_type": "stream",
     "text": [
      "showing info https://raw.githubusercontent.com/nltk/nltk_data/gh-pages/index.xml\n"
     ]
    },
    {
     "data": {
      "text/plain": [
       "True"
      ]
     },
     "execution_count": 135,
     "metadata": {},
     "output_type": "execute_result"
    }
   ],
   "source": [
    "import nltk\n",
    "nltk.download()"
   ]
  },
  {
   "cell_type": "code",
   "execution_count": 136,
   "metadata": {},
   "outputs": [
    {
     "data": {
      "text/plain": [
       "['i',\n",
       " 'me',\n",
       " 'my',\n",
       " 'myself',\n",
       " 'we',\n",
       " 'our',\n",
       " 'ours',\n",
       " 'ourselves',\n",
       " 'you',\n",
       " \"you're\",\n",
       " \"you've\",\n",
       " \"you'll\",\n",
       " \"you'd\",\n",
       " 'your',\n",
       " 'yours',\n",
       " 'yourself',\n",
       " 'yourselves',\n",
       " 'he',\n",
       " 'him',\n",
       " 'his',\n",
       " 'himself',\n",
       " 'she',\n",
       " \"she's\",\n",
       " 'her',\n",
       " 'hers',\n",
       " 'herself',\n",
       " 'it',\n",
       " \"it's\",\n",
       " 'its',\n",
       " 'itself',\n",
       " 'they',\n",
       " 'them',\n",
       " 'their',\n",
       " 'theirs',\n",
       " 'themselves',\n",
       " 'what',\n",
       " 'which',\n",
       " 'who',\n",
       " 'whom',\n",
       " 'this',\n",
       " 'that',\n",
       " \"that'll\",\n",
       " 'these',\n",
       " 'those',\n",
       " 'am',\n",
       " 'is',\n",
       " 'are',\n",
       " 'was',\n",
       " 'were',\n",
       " 'be',\n",
       " 'been',\n",
       " 'being',\n",
       " 'have',\n",
       " 'has',\n",
       " 'had',\n",
       " 'having',\n",
       " 'do',\n",
       " 'does',\n",
       " 'did',\n",
       " 'doing',\n",
       " 'a',\n",
       " 'an',\n",
       " 'the',\n",
       " 'and',\n",
       " 'but',\n",
       " 'if',\n",
       " 'or',\n",
       " 'because',\n",
       " 'as',\n",
       " 'until',\n",
       " 'while',\n",
       " 'of',\n",
       " 'at',\n",
       " 'by',\n",
       " 'for',\n",
       " 'with',\n",
       " 'about',\n",
       " 'against',\n",
       " 'between',\n",
       " 'into',\n",
       " 'through',\n",
       " 'during',\n",
       " 'before',\n",
       " 'after',\n",
       " 'above',\n",
       " 'below',\n",
       " 'to',\n",
       " 'from',\n",
       " 'up',\n",
       " 'down',\n",
       " 'in',\n",
       " 'out',\n",
       " 'on',\n",
       " 'off',\n",
       " 'over',\n",
       " 'under',\n",
       " 'again',\n",
       " 'further',\n",
       " 'then',\n",
       " 'once',\n",
       " 'here',\n",
       " 'there',\n",
       " 'when',\n",
       " 'where',\n",
       " 'why',\n",
       " 'how',\n",
       " 'all',\n",
       " 'any',\n",
       " 'both',\n",
       " 'each',\n",
       " 'few',\n",
       " 'more',\n",
       " 'most',\n",
       " 'other',\n",
       " 'some',\n",
       " 'such',\n",
       " 'no',\n",
       " 'nor',\n",
       " 'not',\n",
       " 'only',\n",
       " 'own',\n",
       " 'same',\n",
       " 'so',\n",
       " 'than',\n",
       " 'too',\n",
       " 'very',\n",
       " 's',\n",
       " 't',\n",
       " 'can',\n",
       " 'will',\n",
       " 'just',\n",
       " 'don',\n",
       " \"don't\",\n",
       " 'should',\n",
       " \"should've\",\n",
       " 'now',\n",
       " 'd',\n",
       " 'll',\n",
       " 'm',\n",
       " 'o',\n",
       " 're',\n",
       " 've',\n",
       " 'y',\n",
       " 'ain',\n",
       " 'aren',\n",
       " \"aren't\",\n",
       " 'couldn',\n",
       " \"couldn't\",\n",
       " 'didn',\n",
       " \"didn't\",\n",
       " 'doesn',\n",
       " \"doesn't\",\n",
       " 'hadn',\n",
       " \"hadn't\",\n",
       " 'hasn',\n",
       " \"hasn't\",\n",
       " 'haven',\n",
       " \"haven't\",\n",
       " 'isn',\n",
       " \"isn't\",\n",
       " 'ma',\n",
       " 'mightn',\n",
       " \"mightn't\",\n",
       " 'mustn',\n",
       " \"mustn't\",\n",
       " 'needn',\n",
       " \"needn't\",\n",
       " 'shan',\n",
       " \"shan't\",\n",
       " 'shouldn',\n",
       " \"shouldn't\",\n",
       " 'wasn',\n",
       " \"wasn't\",\n",
       " 'weren',\n",
       " \"weren't\",\n",
       " 'won',\n",
       " \"won't\",\n",
       " 'wouldn',\n",
       " \"wouldn't\"]"
      ]
     },
     "execution_count": 136,
     "metadata": {},
     "output_type": "execute_result"
    }
   ],
   "source": [
    "# You have to download stopwords Package to execute this command\n",
    "from nltk.corpus import stopwords\n",
    "stopwords.words('english')"
   ]
  },
  {
   "cell_type": "code",
   "execution_count": 138,
   "metadata": {},
   "outputs": [
    {
     "data": {
      "text/plain": [
       "'Hello Mr Future I am so happy to be learning AI now'"
      ]
     },
     "execution_count": 138,
     "metadata": {},
     "output_type": "execute_result"
    }
   ],
   "source": [
    "Test_punc_removed_join"
   ]
  },
  {
   "cell_type": "code",
   "execution_count": 139,
   "metadata": {},
   "outputs": [],
   "source": [
    "Test_punc_removed_join_clean = [word for word in Test_punc_removed_join.split() if word.lower() not in stopwords.words('english')]"
   ]
  },
  {
   "cell_type": "code",
   "execution_count": 140,
   "metadata": {},
   "outputs": [
    {
     "data": {
      "text/plain": [
       "['Hello', 'Mr', 'Future', 'happy', 'learning', 'AI']"
      ]
     },
     "execution_count": 140,
     "metadata": {},
     "output_type": "execute_result"
    }
   ],
   "source": [
    "Test_punc_removed_join_clean # Only important (no so common) words are left"
   ]
  },
  {
   "cell_type": "code",
   "execution_count": 141,
   "metadata": {},
   "outputs": [],
   "source": [
    "#STEP 3.3 EXERCISE: COUNT VECTORIZER EXAMPLE"
   ]
  },
  {
   "cell_type": "code",
   "execution_count": 142,
   "metadata": {},
   "outputs": [],
   "source": [
    "from sklearn.feature_extraction.text import CountVectorizer\n",
    "sample_data = ['This is the first document.','This document is the second document.','And this is the third one.','Is this the first document?']\n",
    "\n",
    "vectorizer = CountVectorizer()\n",
    "X = vectorizer.fit_transform(sample_data)\n"
   ]
  },
  {
   "cell_type": "code",
   "execution_count": 143,
   "metadata": {},
   "outputs": [
    {
     "name": "stdout",
     "output_type": "stream",
     "text": [
      "['and', 'document', 'first', 'is', 'one', 'second', 'the', 'third', 'this']\n"
     ]
    }
   ],
   "source": [
    "print(vectorizer.get_feature_names())\n"
   ]
  },
  {
   "cell_type": "code",
   "execution_count": 144,
   "metadata": {},
   "outputs": [
    {
     "name": "stdout",
     "output_type": "stream",
     "text": [
      "[[0 1 1 1 0 0 1 0 1]\n",
      " [0 2 0 1 0 1 1 0 1]\n",
      " [1 0 0 1 1 0 1 1 1]\n",
      " [0 1 1 1 0 0 1 0 1]]\n"
     ]
    }
   ],
   "source": [
    "print(X.toarray())  "
   ]
  },
  {
   "cell_type": "code",
   "execution_count": 145,
   "metadata": {},
   "outputs": [],
   "source": [
    "#LET'S APPLY THE PREVIOUS THREE PROCESSES TO OUR SPAM/HAM EXAMPLE"
   ]
  },
  {
   "cell_type": "code",
   "execution_count": 146,
   "metadata": {},
   "outputs": [],
   "source": [
    "# Let's define a pipeline to clean up all the messages \n",
    "# The pipeline performs the following: (1) remove punctuation, (2) remove stopwords\n",
    "\n",
    "def message_cleaning(message):\n",
    "    Test_punc_removed = [char for char in message if char not in string.punctuation]\n",
    "    Test_punc_removed_join = ''.join(Test_punc_removed)\n",
    "    Test_punc_removed_join_clean = [word for word in Test_punc_removed_join.split() if word.lower() not in stopwords.words('english')]\n",
    "    return Test_punc_removed_join_clean"
   ]
  },
  {
   "cell_type": "code",
   "execution_count": 147,
   "metadata": {},
   "outputs": [],
   "source": [
    "# Let's test the newly added function\n",
    "train_clean = train['excerpt'].apply(message_cleaning)"
   ]
  },
  {
   "cell_type": "code",
   "execution_count": 186,
   "metadata": {},
   "outputs": [],
   "source": [
    "test_clean = test['excerpt'].apply(message_cleaning)"
   ]
  },
  {
   "cell_type": "code",
   "execution_count": 149,
   "metadata": {},
   "outputs": [
    {
     "name": "stdout",
     "output_type": "stream",
     "text": [
      "['young', 'people', 'returned', 'ballroom', 'presented', 'decidedly', 'changed', 'appearance', 'Instead', 'interior', 'scene', 'winter', 'landscape', 'floor', 'covered', 'snowwhite', 'canvas', 'laid', 'smoothly', 'rumpled', 'bumps', 'hillocks', 'like', 'real', 'snow', 'field', 'numerous', 'palms', 'evergreens', 'decorated', 'room', 'powdered', 'flour', 'strewn', 'tufts', 'cotton', 'like', 'snow', 'Also', 'diamond', 'dust', 'lightly', 'sprinkled', 'glittering', 'crystal', 'icicles', 'hung', 'branches', 'end', 'room', 'wall', 'hung', 'beautiful', 'bearskin', 'rug', 'rugs', 'prizes', 'one', 'girls', 'one', 'boys', 'game', 'girls', 'gathered', 'one', 'end', 'room', 'boys', 'one', 'end', 'called', 'North', 'Pole', 'South', 'Pole', 'player', 'given', 'small', 'flag', 'plant', 'reaching', 'Pole', 'would', 'easy', 'matter', 'traveller', 'obliged', 'wear', 'snowshoes']\n"
     ]
    }
   ],
   "source": [
    "print(train_clean[0])"
   ]
  },
  {
   "cell_type": "code",
   "execution_count": 187,
   "metadata": {},
   "outputs": [
    {
     "name": "stdout",
     "output_type": "stream",
     "text": [
      "['hope', 'lay', 'Jacks', 'promise', 'would', 'keep', 'bright', 'light', 'burning', 'upper', 'story', 'guide', 'course', 'clear', 'night', 'light', 'visible', 'village', 'somehow', 'failed', 'take', 'account', 'state', 'weather', 'air', 'full', 'eddying', 'flakes', 'would', 'render', 'headlight', 'locomotive', 'invisible', 'hundred', 'yards', 'distant', 'Strange', 'important', 'fact', 'never', 'occurred', 'fully', 'fourth', 'mile', 'village', 'looking', 'vain', 'beacon', 'light', 'danger', 'situation', 'struck', 'halted', 'certain', 'go', 'wrong', 'said', 'power', 'follow', 'direct', 'course', 'without', 'something', 'serve', 'compass', 'go', 'back', 'village', 'wait', 'till', 'morning']\n"
     ]
    }
   ],
   "source": [
    "print(test_clean[0])"
   ]
  },
  {
   "cell_type": "code",
   "execution_count": 151,
   "metadata": {},
   "outputs": [
    {
     "name": "stdout",
     "output_type": "stream",
     "text": [
      "When the young people returned to the ballroom, it presented a decidedly changed appearance. Instead of an interior scene, it was a winter landscape.\n",
      "The floor was covered with snow-white canvas, not laid on smoothly, but rumpled over bumps and hillocks, like a real snow field. The numerous palms and evergreens that had decorated the room, were powdered with flour and strewn with tufts of cotton, like snow. Also diamond dust had been lightly sprinkled on them, and glittering crystal icicles hung from the branches.\n",
      "At each end of the room, on the wall, hung a beautiful bear-skin rug.\n",
      "These rugs were for prizes, one for the girls and one for the boys. And this was the game.\n",
      "The girls were gathered at one end of the room and the boys at the other, and one end was called the North Pole, and the other the South Pole. Each player was given a small flag which they were to plant on reaching the Pole.\n",
      "This would have been an easy matter, but each traveller was obliged to wear snowshoes.\n"
     ]
    }
   ],
   "source": [
    "print(train['excerpt'][0])"
   ]
  },
  {
   "cell_type": "code",
   "execution_count": 188,
   "metadata": {},
   "outputs": [
    {
     "name": "stdout",
     "output_type": "stream",
     "text": [
      "My hope lay in Jack's promise that he would keep a bright light burning in the upper story to guide me on my course. On a clear night this light was visible from the village, but somehow or other I failed to take into account the state of the weather. The air was full of eddying flakes, which would render the headlight of a locomotive invisible a hundred yards distant. Strange that this important fact never occurred to me until I was fully a fourth of a mile from the village. Then, after looking in vain for the beacon light, the danger of my situation struck me, and I halted.\n",
      "\"I am certain to go wrong,\" I said to myself.\n",
      "\"It is out of my power to follow a direct course without something to serve as a compass. I will go back to the village and wait till morning.\"\n"
     ]
    }
   ],
   "source": [
    "print(test['excerpt'][0])"
   ]
  },
  {
   "cell_type": "code",
   "execution_count": 153,
   "metadata": {},
   "outputs": [],
   "source": [
    "#LET'S APPLY COUNT VECTORIZER TO OUR MESSAGES LIST¶"
   ]
  },
  {
   "cell_type": "code",
   "execution_count": 266,
   "metadata": {},
   "outputs": [],
   "source": [
    "from sklearn.feature_extraction.text import CountVectorizer\n",
    "# Define the cleaning pipeline we defined earlier\n",
    "vectorizer = CountVectorizer(analyzer = message_cleaning)\n",
    "spamham_countvectorizer = vectorizer.fit_transform(train['excerpt'])\n"
   ]
  },
  {
   "cell_type": "code",
   "execution_count": 236,
   "metadata": {},
   "outputs": [
    {
     "data": {
      "text/plain": [
       "2834"
      ]
     },
     "execution_count": 236,
     "metadata": {},
     "output_type": "execute_result"
    }
   ],
   "source": [
    "len(spamham_countvectorizer.toarray())"
   ]
  },
  {
   "cell_type": "code",
   "execution_count": 270,
   "metadata": {},
   "outputs": [],
   "source": [
    "from sklearn.feature_extraction.text import CountVectorizer\n",
    "# Define the cleaning pipeline we defined earlier\n",
    "vectorizer1 = CountVectorizer(analyzer = message_cleaning)\n",
    "spamham_countvectorizer1 = vectorizer.transform(test['excerpt'])"
   ]
  },
  {
   "cell_type": "code",
   "execution_count": 271,
   "metadata": {},
   "outputs": [
    {
     "data": {
      "text/plain": [
       "7"
      ]
     },
     "execution_count": 271,
     "metadata": {},
     "output_type": "execute_result"
    }
   ],
   "source": [
    "len(spamham_countvectorizer1.toarray())"
   ]
  },
  {
   "cell_type": "code",
   "execution_count": 272,
   "metadata": {},
   "outputs": [
    {
     "data": {
      "text/plain": [
       "2834"
      ]
     },
     "execution_count": 272,
     "metadata": {},
     "output_type": "execute_result"
    }
   ],
   "source": [
    "len(spamham_countvectorizer.toarray())"
   ]
  },
  {
   "cell_type": "code",
   "execution_count": 273,
   "metadata": {},
   "outputs": [
    {
     "data": {
      "text/plain": [
       "32962"
      ]
     },
     "execution_count": 273,
     "metadata": {},
     "output_type": "execute_result"
    }
   ],
   "source": [
    "len(vectorizer.get_feature_names())\n"
   ]
  },
  {
   "cell_type": "code",
   "execution_count": 254,
   "metadata": {},
   "outputs": [
    {
     "name": "stdout",
     "output_type": "stream",
     "text": [
      "[[0 0 0 ... 0 0 0]\n",
      " [0 0 0 ... 0 0 0]\n",
      " [0 0 0 ... 0 0 0]\n",
      " ...\n",
      " [0 0 0 ... 0 0 0]\n",
      " [0 0 0 ... 0 0 0]\n",
      " [0 0 0 ... 0 0 0]]\n"
     ]
    }
   ],
   "source": [
    "print(spamham_countvectorizer.toarray())  "
   ]
  },
  {
   "cell_type": "code",
   "execution_count": 255,
   "metadata": {},
   "outputs": [
    {
     "name": "stdout",
     "output_type": "stream",
     "text": [
      "[[0 0 0 ... 1 1 0]\n",
      " [0 0 0 ... 1 0 0]\n",
      " [0 0 0 ... 0 0 1]\n",
      " ...\n",
      " [1 1 0 ... 0 0 0]\n",
      " [0 0 7 ... 0 0 0]\n",
      " [0 0 0 ... 0 0 0]]\n"
     ]
    }
   ],
   "source": [
    "print(spamham_countvectorizer1.toarray())  "
   ]
  },
  {
   "cell_type": "code",
   "execution_count": 256,
   "metadata": {},
   "outputs": [
    {
     "data": {
      "text/plain": [
       "(2834, 32962)"
      ]
     },
     "execution_count": 256,
     "metadata": {},
     "output_type": "execute_result"
    }
   ],
   "source": [
    "spamham_countvectorizer.shape"
   ]
  },
  {
   "cell_type": "code",
   "execution_count": 257,
   "metadata": {},
   "outputs": [
    {
     "data": {
      "text/plain": [
       "(7, 456)"
      ]
     },
     "execution_count": 257,
     "metadata": {},
     "output_type": "execute_result"
    }
   ],
   "source": [
    "spamham_countvectorizer1.shape"
   ]
  },
  {
   "cell_type": "code",
   "execution_count": 162,
   "metadata": {},
   "outputs": [],
   "source": [
    "#STEP#4: TRAINING THE MODEL WITH ALL DATASET¶"
   ]
  },
  {
   "cell_type": "code",
   "execution_count": 163,
   "metadata": {},
   "outputs": [
    {
     "data": {
      "text/plain": [
       "MultinomialNB()"
      ]
     },
     "execution_count": 163,
     "metadata": {},
     "output_type": "execute_result"
    }
   ],
   "source": [
    "from sklearn.naive_bayes import MultinomialNB\n",
    "\n",
    "NB_classifier = MultinomialNB()\n",
    "label = train['target'].values\n",
    "NB_classifier.fit(spamham_countvectorizer, label)"
   ]
  },
  {
   "cell_type": "code",
   "execution_count": 164,
   "metadata": {},
   "outputs": [],
   "source": [
    "testing_sample = ['Free money!!!', \"Hi Kim, Please let me know if you need any further information. Thanks\"]\n",
    "testing_sample_countvectorizer = vectorizer.transform(testing_sample)\n"
   ]
  },
  {
   "cell_type": "code",
   "execution_count": 165,
   "metadata": {},
   "outputs": [
    {
     "data": {
      "text/plain": [
       "array([0, 0])"
      ]
     },
     "execution_count": 165,
     "metadata": {},
     "output_type": "execute_result"
    }
   ],
   "source": [
    "test_predict = NB_classifier.predict(testing_sample_countvectorizer)\n",
    "test_predict"
   ]
  },
  {
   "cell_type": "code",
   "execution_count": 166,
   "metadata": {},
   "outputs": [
    {
     "data": {
      "text/plain": [
       "array([0, 0])"
      ]
     },
     "execution_count": 166,
     "metadata": {},
     "output_type": "execute_result"
    }
   ],
   "source": [
    "testing_sample = ['money viagara!!!!!', \"Hello, I am Ryan, I would like to book a hotel in SF by January 24th\"]\n",
    "testing_sample_countvectorizer = vectorizer.transform(testing_sample)\n",
    "test_predict = NB_classifier.predict(testing_sample_countvectorizer)\n",
    "test_predict"
   ]
  },
  {
   "cell_type": "code",
   "execution_count": null,
   "metadata": {},
   "outputs": [],
   "source": [
    "#STEP#4: DIVIDE THE DATA INTO TRAINING AND TESTING PRIOR TO TRAINING¶"
   ]
  },
  {
   "cell_type": "code",
   "execution_count": 274,
   "metadata": {},
   "outputs": [],
   "source": [
    "X_train = spamham_countvectorizer\n",
    "y_train = label\n",
    "X_test = spamham_countvectorizer1"
   ]
  },
  {
   "cell_type": "code",
   "execution_count": 260,
   "metadata": {},
   "outputs": [
    {
     "data": {
      "text/plain": [
       "array([[0, 0, 0, ..., 0, 0, 0],\n",
       "       [0, 0, 0, ..., 0, 0, 0],\n",
       "       [0, 0, 0, ..., 0, 0, 0],\n",
       "       ...,\n",
       "       [0, 0, 0, ..., 0, 0, 0],\n",
       "       [0, 0, 0, ..., 0, 0, 0],\n",
       "       [0, 0, 0, ..., 0, 0, 0]], dtype=int64)"
      ]
     },
     "execution_count": 260,
     "metadata": {},
     "output_type": "execute_result"
    }
   ],
   "source": [
    "X_train.toarray()"
   ]
  },
  {
   "cell_type": "code",
   "execution_count": 195,
   "metadata": {},
   "outputs": [
    {
     "data": {
      "text/plain": [
       "array([ 0,  0, -1, ...,  0,  0,  0])"
      ]
     },
     "execution_count": 195,
     "metadata": {},
     "output_type": "execute_result"
    }
   ],
   "source": [
    "y_train"
   ]
  },
  {
   "cell_type": "code",
   "execution_count": 261,
   "metadata": {},
   "outputs": [
    {
     "data": {
      "text/plain": [
       "array([[0, 0, 0, ..., 1, 1, 0],\n",
       "       [0, 0, 0, ..., 1, 0, 0],\n",
       "       [0, 0, 0, ..., 0, 0, 1],\n",
       "       ...,\n",
       "       [1, 1, 0, ..., 0, 0, 0],\n",
       "       [0, 0, 7, ..., 0, 0, 0],\n",
       "       [0, 0, 0, ..., 0, 0, 0]], dtype=int64)"
      ]
     },
     "execution_count": 261,
     "metadata": {},
     "output_type": "execute_result"
    }
   ],
   "source": [
    "X_test.toarray()"
   ]
  },
  {
   "cell_type": "code",
   "execution_count": 275,
   "metadata": {},
   "outputs": [
    {
     "name": "stdout",
     "output_type": "stream",
     "text": [
      "(2834, 32962)\n",
      "(2834,)\n",
      "(7, 32962)\n"
     ]
    }
   ],
   "source": [
    "print(X_train.shape)\n",
    "print(y_train.shape)\n",
    "print(X_test.shape)"
   ]
  },
  {
   "cell_type": "code",
   "execution_count": 276,
   "metadata": {},
   "outputs": [
    {
     "data": {
      "text/plain": [
       "MultinomialNB()"
      ]
     },
     "execution_count": 276,
     "metadata": {},
     "output_type": "execute_result"
    }
   ],
   "source": [
    "from sklearn.naive_bayes import MultinomialNB\n",
    "\n",
    "NB_classifier = MultinomialNB()\n",
    "NB_classifier.fit(X_train, y_train)"
   ]
  },
  {
   "cell_type": "code",
   "execution_count": null,
   "metadata": {},
   "outputs": [],
   "source": [
    "#STEP#5: EVALUATING THE MODEL"
   ]
  },
  {
   "cell_type": "code",
   "execution_count": 277,
   "metadata": {},
   "outputs": [
    {
     "data": {
      "text/plain": [
       "<matplotlib.axes._subplots.AxesSubplot at 0x2a8b2891460>"
      ]
     },
     "execution_count": 277,
     "metadata": {},
     "output_type": "execute_result"
    },
    {
     "data": {
      "image/png": "[encoded data removed]",
      "text/plain": [
       "<Figure size 432x288 with 2 Axes>"
      ]
     },
     "metadata": {
      "needs_background": "light"
     },
     "output_type": "display_data"
    }
   ],
   "source": [
    "from sklearn.metrics import classification_report, confusion_matrix\n",
    "y_predict_train = NB_classifier.predict(X_train)\n",
    "y_predict_train\n",
    "cm = confusion_matrix(y_train, y_predict_train)\n",
    "sns.heatmap(cm, annot=True)"
   ]
  },
  {
   "cell_type": "code",
   "execution_count": 278,
   "metadata": {},
   "outputs": [
    {
     "name": "stdout",
     "output_type": "stream",
     "text": [
      "99.42561130651207\n"
     ]
    }
   ],
   "source": [
    "from sklearn.metrics import mean_squared_error\n",
    "import math\n",
    "score1 = max(0, 100-np.sqrt(mean_squared_error(y_train,y_predict_train)))\n",
    "print(score1)"
   ]
  },
  {
   "cell_type": "code",
   "execution_count": 338,
   "metadata": {},
   "outputs": [],
   "source": [
    "# Predicting the Test set results\n",
    "#prediction1\n",
    "y_predict_test = NB_classifier.predict(X_test)"
   ]
  },
  {
   "cell_type": "code",
   "execution_count": 339,
   "metadata": {},
   "outputs": [
    {
     "data": {
      "text/plain": [
       "array([-2,  0,  0, -2, -2,  0,  0])"
      ]
     },
     "execution_count": 339,
     "metadata": {},
     "output_type": "execute_result"
    }
   ],
   "source": [
    "y_predict_test"
   ]
  },
  {
   "cell_type": "code",
   "execution_count": 340,
   "metadata": {},
   "outputs": [],
   "source": [
    "sf1=pd.DataFrame(y_predict_test,columns=['target'])"
   ]
  },
  {
   "cell_type": "code",
   "execution_count": 341,
   "metadata": {},
   "outputs": [],
   "source": [
    "df1= pd.concat([test.id,sf1['target']], axis=1)"
   ]
  },
  {
   "cell_type": "code",
   "execution_count": 342,
   "metadata": {},
   "outputs": [
    {
     "data": {
      "text/html": [
       "<div>\n",
       "<style scoped>\n",
       "    .dataframe tbody tr th:only-of-type {\n",
       "        vertical-align: middle;\n",
       "    }\n",
       "\n",
       "    .dataframe tbody tr th {\n",
       "        vertical-align: top;\n",
       "    }\n",
       "\n",
       "    .dataframe thead th {\n",
       "        text-align: right;\n",
       "    }\n",
       "</style>\n",
       "<table border=\"1\" class=\"dataframe\">\n",
       "  <thead>\n",
       "    <tr style=\"text-align: right;\">\n",
       "      <th></th>\n",
       "      <th>id</th>\n",
       "      <th>target</th>\n",
       "    </tr>\n",
       "  </thead>\n",
       "  <tbody>\n",
       "    <tr>\n",
       "      <th>0</th>\n",
       "      <td>c0f722661</td>\n",
       "      <td>-2</td>\n",
       "    </tr>\n",
       "    <tr>\n",
       "      <th>1</th>\n",
       "      <td>f0953f0a5</td>\n",
       "      <td>0</td>\n",
       "    </tr>\n",
       "    <tr>\n",
       "      <th>2</th>\n",
       "      <td>0df072751</td>\n",
       "      <td>0</td>\n",
       "    </tr>\n",
       "    <tr>\n",
       "      <th>3</th>\n",
       "      <td>04caf4e0c</td>\n",
       "      <td>-2</td>\n",
       "    </tr>\n",
       "    <tr>\n",
       "      <th>4</th>\n",
       "      <td>0e63f8bea</td>\n",
       "      <td>-2</td>\n",
       "    </tr>\n",
       "    <tr>\n",
       "      <th>5</th>\n",
       "      <td>12537fe78</td>\n",
       "      <td>0</td>\n",
       "    </tr>\n",
       "    <tr>\n",
       "      <th>6</th>\n",
       "      <td>965e592c0</td>\n",
       "      <td>0</td>\n",
       "    </tr>\n",
       "  </tbody>\n",
       "</table>\n",
       "</div>"
      ],
      "text/plain": [
       "          id  target\n",
       "0  c0f722661      -2\n",
       "1  f0953f0a5       0\n",
       "2  0df072751       0\n",
       "3  04caf4e0c      -2\n",
       "4  0e63f8bea      -2\n",
       "5  12537fe78       0\n",
       "6  965e592c0       0"
      ]
     },
     "execution_count": 342,
     "metadata": {},
     "output_type": "execute_result"
    }
   ],
   "source": [
    "df1"
   ]
  },
  {
   "cell_type": "code",
   "execution_count": 373,
   "metadata": {},
   "outputs": [],
   "source": [
    "df1.to_csv('prediction1.csv',index=False)"
   ]
  },
  {
   "cell_type": "code",
   "execution_count": 346,
   "metadata": {},
   "outputs": [],
   "source": [
    "#prediction2"
   ]
  },
  {
   "cell_type": "code",
   "execution_count": 347,
   "metadata": {},
   "outputs": [],
   "source": [
    "an_y_predict_test=y_predict_test"
   ]
  },
  {
   "cell_type": "code",
   "execution_count": 348,
   "metadata": {},
   "outputs": [],
   "source": [
    "for i in range(len(an_y_predict_test)):\n",
    "    if an_y_predict_test[i]<=0:\n",
    "        an_y_predict_test[i]=0   "
   ]
  },
  {
   "cell_type": "code",
   "execution_count": 349,
   "metadata": {},
   "outputs": [
    {
     "data": {
      "text/plain": [
       "array([0, 0, 0, 0, 0, 0, 0])"
      ]
     },
     "execution_count": 349,
     "metadata": {},
     "output_type": "execute_result"
    }
   ],
   "source": [
    "an_y_predict_test"
   ]
  },
  {
   "cell_type": "code",
   "execution_count": 350,
   "metadata": {},
   "outputs": [],
   "source": [
    "sf2=pd.DataFrame(an_y_predict_test,columns=['target'])"
   ]
  },
  {
   "cell_type": "code",
   "execution_count": 351,
   "metadata": {},
   "outputs": [],
   "source": [
    "df2= pd.concat([test.id,sf2['target']], axis=1)"
   ]
  },
  {
   "cell_type": "code",
   "execution_count": 352,
   "metadata": {},
   "outputs": [
    {
     "data": {
      "text/html": [
       "<div>\n",
       "<style scoped>\n",
       "    .dataframe tbody tr th:only-of-type {\n",
       "        vertical-align: middle;\n",
       "    }\n",
       "\n",
       "    .dataframe tbody tr th {\n",
       "        vertical-align: top;\n",
       "    }\n",
       "\n",
       "    .dataframe thead th {\n",
       "        text-align: right;\n",
       "    }\n",
       "</style>\n",
       "<table border=\"1\" class=\"dataframe\">\n",
       "  <thead>\n",
       "    <tr style=\"text-align: right;\">\n",
       "      <th></th>\n",
       "      <th>id</th>\n",
       "      <th>target</th>\n",
       "    </tr>\n",
       "  </thead>\n",
       "  <tbody>\n",
       "    <tr>\n",
       "      <th>0</th>\n",
       "      <td>c0f722661</td>\n",
       "      <td>0</td>\n",
       "    </tr>\n",
       "    <tr>\n",
       "      <th>1</th>\n",
       "      <td>f0953f0a5</td>\n",
       "      <td>0</td>\n",
       "    </tr>\n",
       "    <tr>\n",
       "      <th>2</th>\n",
       "      <td>0df072751</td>\n",
       "      <td>0</td>\n",
       "    </tr>\n",
       "    <tr>\n",
       "      <th>3</th>\n",
       "      <td>04caf4e0c</td>\n",
       "      <td>0</td>\n",
       "    </tr>\n",
       "    <tr>\n",
       "      <th>4</th>\n",
       "      <td>0e63f8bea</td>\n",
       "      <td>0</td>\n",
       "    </tr>\n",
       "    <tr>\n",
       "      <th>5</th>\n",
       "      <td>12537fe78</td>\n",
       "      <td>0</td>\n",
       "    </tr>\n",
       "    <tr>\n",
       "      <th>6</th>\n",
       "      <td>965e592c0</td>\n",
       "      <td>0</td>\n",
       "    </tr>\n",
       "  </tbody>\n",
       "</table>\n",
       "</div>"
      ],
      "text/plain": [
       "          id  target\n",
       "0  c0f722661       0\n",
       "1  f0953f0a5       0\n",
       "2  0df072751       0\n",
       "3  04caf4e0c       0\n",
       "4  0e63f8bea       0\n",
       "5  12537fe78       0\n",
       "6  965e592c0       0"
      ]
     },
     "execution_count": 352,
     "metadata": {},
     "output_type": "execute_result"
    }
   ],
   "source": [
    "df2"
   ]
  },
  {
   "cell_type": "code",
   "execution_count": 370,
   "metadata": {},
   "outputs": [],
   "source": [
    "df2.to_csv('prediction2.csv',index=False)"
   ]
  },
  {
   "cell_type": "code",
   "execution_count": null,
   "metadata": {},
   "outputs": [],
   "source": [
    "# By using TfidfTransformer"
   ]
  },
  {
   "cell_type": "code",
   "execution_count": 313,
   "metadata": {},
   "outputs": [
    {
     "data": {
      "text/plain": [
       "<2834x32962 sparse matrix of type '<class 'numpy.int64'>'\n",
       "\twith 204391 stored elements in Compressed Sparse Row format>"
      ]
     },
     "execution_count": 313,
     "metadata": {},
     "output_type": "execute_result"
    }
   ],
   "source": [
    "spamham_countvectorizer"
   ]
  },
  {
   "cell_type": "code",
   "execution_count": 290,
   "metadata": {},
   "outputs": [
    {
     "name": "stdout",
     "output_type": "stream",
     "text": [
      "(2834, 32962)\n"
     ]
    }
   ],
   "source": [
    "from sklearn.feature_extraction.text import TfidfTransformer\n",
    "emails_tfidf = TfidfTransformer().fit_transform(spamham_countvectorizer)\n",
    "\n",
    "print(emails_tfidf.shape)"
   ]
  },
  {
   "cell_type": "code",
   "execution_count": 291,
   "metadata": {},
   "outputs": [],
   "source": [
    "emails_tfidf1 = TfidfTransformer().fit_transform(spamham_countvectorizer1)"
   ]
  },
  {
   "cell_type": "code",
   "execution_count": 285,
   "metadata": {},
   "outputs": [
    {
     "name": "stdout",
     "output_type": "stream",
     "text": [
      "  (0, 32829)\t0.05866154604012275\n",
      "  (0, 32698)\t0.03998658311307555\n",
      "  (0, 32511)\t0.075803609586359\n",
      "  (0, 32189)\t0.09614821761208071\n",
      "  (0, 32004)\t0.08267507869920979\n",
      "  (0, 31023)\t0.12884605474766994\n",
      "  (0, 30821)\t0.11494102162015667\n",
      "  (0, 29295)\t0.12412489476999025\n",
      "  (0, 28856)\t0.13550015600754833\n",
      "  (0, 28431)\t0.12412489476999025\n",
      "  (0, 28429)\t0.13550015600754833\n",
      "  (0, 28412)\t0.16163047581496492\n",
      "  (0, 28373)\t0.11747079351011186\n",
      "  (0, 28318)\t0.05606677987521106\n",
      "  (0, 27235)\t0.09472027103499571\n",
      "  (0, 26975)\t0.12884605474766994\n",
      "  (0, 26953)\t0.12046287859093713\n",
      "  (0, 26951)\t0.12412489476999025\n",
      "  (0, 26849)\t0.19106838968718345\n",
      "  (0, 26596)\t0.08141206851523891\n",
      "  (0, 25919)\t0.07914487875475128\n",
      "  (0, 25896)\t0.09541871827067869\n",
      "  (0, 25203)\t0.12046287859093713\n",
      "  (0, 25081)\t0.09541871827067869\n",
      "  (0, 24928)\t0.11494102162015667\n",
      "  :\t:\n",
      "  (2833, 16178)\t0.05930169928690022\n",
      "  (2833, 16109)\t0.04913920517856923\n",
      "  (2833, 15469)\t0.06319537835134205\n",
      "  (2833, 15447)\t0.06975365193005753\n",
      "  (2833, 15082)\t0.08553084201066426\n",
      "  (2833, 15030)\t0.2461519120002069\n",
      "  (2833, 14665)\t0.10923443848769883\n",
      "  (2833, 14664)\t0.09734790464775193\n",
      "  (2833, 14647)\t0.05110073714900619\n",
      "  (2833, 13630)\t0.11163861245453922\n",
      "  (2833, 13621)\t0.09210019641347249\n",
      "  (2833, 12893)\t0.08761343222864817\n",
      "  (2833, 12063)\t0.07085502181624706\n",
      "  (2833, 12006)\t0.09366112398021227\n",
      "  (2833, 11285)\t0.1763612628712237\n",
      "  (2833, 10914)\t0.06993189683306335\n",
      "  (2833, 10363)\t0.11796235139924023\n",
      "  (2833, 10019)\t0.12244911558406456\n",
      "  (2833, 9686)\t0.18923826149789766\n",
      "  (2833, 9684)\t0.07447853156839418\n",
      "  (2833, 9605)\t0.11796235139924023\n",
      "  (2833, 8486)\t0.25754570905753116\n",
      "  (2833, 4529)\t0.12877285452876558\n",
      "  (2833, 4353)\t0.0995797425047068\n",
      "  (2833, 1096)\t0.3159446205295146\n"
     ]
    }
   ],
   "source": [
    "print(emails_tfidf[:,:])\n",
    "# Sparse matrix with all the values of IF-IDF"
   ]
  },
  {
   "cell_type": "code",
   "execution_count": 354,
   "metadata": {},
   "outputs": [],
   "source": [
    "X1 = emails_tfidf\n",
    "y1 = label\n",
    "X_train1=emails_tfidf\n",
    "y_train1=label\n",
    "X_test1=emails_tfidf1\n"
   ]
  },
  {
   "cell_type": "code",
   "execution_count": 355,
   "metadata": {},
   "outputs": [
    {
     "data": {
      "text/plain": [
       "array([-2,  0,  0, -2, -2,  0,  0])"
      ]
     },
     "execution_count": 355,
     "metadata": {},
     "output_type": "execute_result"
    }
   ],
   "source": [
    "from sklearn.naive_bayes import MultinomialNB\n",
    "NB_classifier1 = MultinomialNB()\n",
    "NB_classifier1.fit(X_train1, y_train1)\n",
    "\n",
    "from sklearn.metrics import classification_report, confusion_matrix\n",
    "y_predict_test1 = NB_classifier.predict(X_test1)\n",
    "y_predict_test1\n"
   ]
  },
  {
   "cell_type": "code",
   "execution_count": 356,
   "metadata": {},
   "outputs": [],
   "source": [
    "#prediction3"
   ]
  },
  {
   "cell_type": "code",
   "execution_count": 357,
   "metadata": {},
   "outputs": [],
   "source": [
    "sf3=pd.DataFrame(y_predict_test1,columns=['target'])"
   ]
  },
  {
   "cell_type": "code",
   "execution_count": 358,
   "metadata": {},
   "outputs": [],
   "source": [
    "df3= pd.concat([test.id,sf3['target']], axis=1)"
   ]
  },
  {
   "cell_type": "code",
   "execution_count": 359,
   "metadata": {},
   "outputs": [
    {
     "data": {
      "text/html": [
       "<div>\n",
       "<style scoped>\n",
       "    .dataframe tbody tr th:only-of-type {\n",
       "        vertical-align: middle;\n",
       "    }\n",
       "\n",
       "    .dataframe tbody tr th {\n",
       "        vertical-align: top;\n",
       "    }\n",
       "\n",
       "    .dataframe thead th {\n",
       "        text-align: right;\n",
       "    }\n",
       "</style>\n",
       "<table border=\"1\" class=\"dataframe\">\n",
       "  <thead>\n",
       "    <tr style=\"text-align: right;\">\n",
       "      <th></th>\n",
       "      <th>id</th>\n",
       "      <th>target</th>\n",
       "    </tr>\n",
       "  </thead>\n",
       "  <tbody>\n",
       "    <tr>\n",
       "      <th>0</th>\n",
       "      <td>c0f722661</td>\n",
       "      <td>-2</td>\n",
       "    </tr>\n",
       "    <tr>\n",
       "      <th>1</th>\n",
       "      <td>f0953f0a5</td>\n",
       "      <td>0</td>\n",
       "    </tr>\n",
       "    <tr>\n",
       "      <th>2</th>\n",
       "      <td>0df072751</td>\n",
       "      <td>0</td>\n",
       "    </tr>\n",
       "    <tr>\n",
       "      <th>3</th>\n",
       "      <td>04caf4e0c</td>\n",
       "      <td>-2</td>\n",
       "    </tr>\n",
       "    <tr>\n",
       "      <th>4</th>\n",
       "      <td>0e63f8bea</td>\n",
       "      <td>-2</td>\n",
       "    </tr>\n",
       "    <tr>\n",
       "      <th>5</th>\n",
       "      <td>12537fe78</td>\n",
       "      <td>0</td>\n",
       "    </tr>\n",
       "    <tr>\n",
       "      <th>6</th>\n",
       "      <td>965e592c0</td>\n",
       "      <td>0</td>\n",
       "    </tr>\n",
       "  </tbody>\n",
       "</table>\n",
       "</div>"
      ],
      "text/plain": [
       "          id  target\n",
       "0  c0f722661      -2\n",
       "1  f0953f0a5       0\n",
       "2  0df072751       0\n",
       "3  04caf4e0c      -2\n",
       "4  0e63f8bea      -2\n",
       "5  12537fe78       0\n",
       "6  965e592c0       0"
      ]
     },
     "execution_count": 359,
     "metadata": {},
     "output_type": "execute_result"
    }
   ],
   "source": [
    "df3"
   ]
  },
  {
   "cell_type": "code",
   "execution_count": 371,
   "metadata": {},
   "outputs": [],
   "source": [
    "df3.to_csv('prediction3.csv',index=False)"
   ]
  },
  {
   "cell_type": "code",
   "execution_count": 361,
   "metadata": {},
   "outputs": [],
   "source": [
    "#prediction4"
   ]
  },
  {
   "cell_type": "code",
   "execution_count": 362,
   "metadata": {},
   "outputs": [],
   "source": [
    "an_y_predict_test1=y_predict_test1\n"
   ]
  },
  {
   "cell_type": "code",
   "execution_count": 363,
   "metadata": {},
   "outputs": [],
   "source": [
    "for i in range(len(an_y_predict_test1)):\n",
    "    if an_y_predict_test1[i]<=0:\n",
    "        an_y_predict_test1[i]=0   "
   ]
  },
  {
   "cell_type": "code",
   "execution_count": 364,
   "metadata": {},
   "outputs": [
    {
     "data": {
      "text/plain": [
       "array([0, 0, 0, 0, 0, 0, 0])"
      ]
     },
     "execution_count": 364,
     "metadata": {},
     "output_type": "execute_result"
    }
   ],
   "source": [
    "an_y_predict_test1"
   ]
  },
  {
   "cell_type": "code",
   "execution_count": 365,
   "metadata": {},
   "outputs": [],
   "source": [
    "sf4=pd.DataFrame(an_y_predict_test1,columns=['target'])"
   ]
  },
  {
   "cell_type": "code",
   "execution_count": 366,
   "metadata": {},
   "outputs": [],
   "source": [
    "df4= pd.concat([test.id,sf4['target']], axis=1)"
   ]
  },
  {
   "cell_type": "code",
   "execution_count": 367,
   "metadata": {},
   "outputs": [
    {
     "data": {
      "text/html": [
       "<div>\n",
       "<style scoped>\n",
       "    .dataframe tbody tr th:only-of-type {\n",
       "        vertical-align: middle;\n",
       "    }\n",
       "\n",
       "    .dataframe tbody tr th {\n",
       "        vertical-align: top;\n",
       "    }\n",
       "\n",
       "    .dataframe thead th {\n",
       "        text-align: right;\n",
       "    }\n",
       "</style>\n",
       "<table border=\"1\" class=\"dataframe\">\n",
       "  <thead>\n",
       "    <tr style=\"text-align: right;\">\n",
       "      <th></th>\n",
       "      <th>id</th>\n",
       "      <th>target</th>\n",
       "    </tr>\n",
       "  </thead>\n",
       "  <tbody>\n",
       "    <tr>\n",
       "      <th>0</th>\n",
       "      <td>c0f722661</td>\n",
       "      <td>0</td>\n",
       "    </tr>\n",
       "    <tr>\n",
       "      <th>1</th>\n",
       "      <td>f0953f0a5</td>\n",
       "      <td>0</td>\n",
       "    </tr>\n",
       "    <tr>\n",
       "      <th>2</th>\n",
       "      <td>0df072751</td>\n",
       "      <td>0</td>\n",
       "    </tr>\n",
       "    <tr>\n",
       "      <th>3</th>\n",
       "      <td>04caf4e0c</td>\n",
       "      <td>0</td>\n",
       "    </tr>\n",
       "    <tr>\n",
       "      <th>4</th>\n",
       "      <td>0e63f8bea</td>\n",
       "      <td>0</td>\n",
       "    </tr>\n",
       "    <tr>\n",
       "      <th>5</th>\n",
       "      <td>12537fe78</td>\n",
       "      <td>0</td>\n",
       "    </tr>\n",
       "    <tr>\n",
       "      <th>6</th>\n",
       "      <td>965e592c0</td>\n",
       "      <td>0</td>\n",
       "    </tr>\n",
       "  </tbody>\n",
       "</table>\n",
       "</div>"
      ],
      "text/plain": [
       "          id  target\n",
       "0  c0f722661       0\n",
       "1  f0953f0a5       0\n",
       "2  0df072751       0\n",
       "3  04caf4e0c       0\n",
       "4  0e63f8bea       0\n",
       "5  12537fe78       0\n",
       "6  965e592c0       0"
      ]
     },
     "execution_count": 367,
     "metadata": {},
     "output_type": "execute_result"
    }
   ],
   "source": [
    "df4"
   ]
  },
  {
   "cell_type": "code",
   "execution_count": 372,
   "metadata": {},
   "outputs": [],
   "source": [
    "df4.to_csv('prediction4.csv',index=False)"
   ]
  },
  {
   "cell_type": "code",
   "execution_count": null,
   "metadata": {},
   "outputs": [],
   "source": []
  }
 ],
 "metadata": {
  "kernelspec": {
   "display_name": "Python 3",
   "language": "python",
   "name": "python3"
  },
  "language_info": {
   "codemirror_mode": {
    "name": "ipython",
    "version": 3
   },
   "file_extension": ".py",
   "mimetype": "text/x-python",
   "name": "python",
   "nbconvert_exporter": "python",
   "pygments_lexer": "ipython3",
   "version": "3.8.3"
  }
 },
 "nbformat": 4,
 "nbformat_minor": 4
}
